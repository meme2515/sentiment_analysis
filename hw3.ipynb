{
 "cells": [
  {
   "cell_type": "code",
   "execution_count": 1,
   "metadata": {
    "deletable": false,
    "editable": false
   },
   "outputs": [
    {
     "name": "stdout",
     "output_type": "stream",
     "text": [
      "=====================================================================\n",
      "Assignment: hw3\n",
      "OK, version v1.13.11\n",
      "=====================================================================\n",
      "\n"
     ]
    }
   ],
   "source": [
    "# Initialize OK\n",
    "from client.api.notebook import Notebook\n",
    "ok = Notebook('hw3.ok')"
   ]
  },
  {
   "cell_type": "markdown",
   "metadata": {
    "nbgrader": {
     "grade": false,
     "grade_id": "intro",
     "locked": true,
     "schema_version": 2,
     "solution": false
    }
   },
   "source": [
    "# Homework 3: Trump, Twitter, and Text\n",
    "\n",
    "## Due Date: Monday 2/25, 11:59 pm PST\n",
    "\n",
    "Welcome to the third homework assignment of Data 100/200! In this assignment, we will work with Twitter data in order to analyze Donald Trump's tweets.\n",
    "\n",
    "**Collaboration Policy**\n",
    "\n",
    "Data science is a collaborative activity. While you may talk with others about the homework, we ask that you **write your solutions individually**. If you do discuss the assignments with others please **include their names** below."
   ]
  },
  {
   "cell_type": "markdown",
   "metadata": {},
   "source": [
    "**Collaborators**: *list collaborators here*"
   ]
  },
  {
   "cell_type": "code",
   "execution_count": 2,
   "metadata": {
    "nbgrader": {
     "grade": false,
     "grade_id": "import",
     "locked": true,
     "schema_version": 2,
     "solution": false
    }
   },
   "outputs": [],
   "source": [
    "# Run this cell to set up your notebook\n",
    "import csv\n",
    "import numpy as np\n",
    "import pandas as pd\n",
    "import matplotlib.pyplot as plt\n",
    "import json\n",
    "import zipfile\n",
    "\n",
    "# Ensure that Pandas shows at least 280 characters in columns, so we can see full tweets\n",
    "pd.set_option('max_colwidth', 280)\n",
    "\n",
    "%matplotlib inline\n",
    "plt.style.use('fivethirtyeight')\n",
    "import seaborn as sns\n",
    "sns.set()\n",
    "sns.set_context(\"talk\")\n",
    "import re"
   ]
  },
  {
   "cell_type": "markdown",
   "metadata": {},
   "source": [
    "### Score Breakdown\n",
    "\n",
    "Question | Points\n",
    "--- | ---\n",
    "Question 1 | 2\n",
    "Question 2 | 1\n",
    "Question 3 | 2\n",
    "Question 4a | 1\n",
    "Question 4b | 2\n",
    "Question 4c | 2\n",
    "Question 5a | 1\n",
    "Question 5b | 1\n",
    "Question 5c | 1\n",
    "Question 5d | 2\n",
    "Question 5e | 2\n",
    "Question 6a | 1\n",
    "Question 6b | 1\n",
    "Total | 19"
   ]
  },
  {
   "cell_type": "markdown",
   "metadata": {
    "nbgrader": {
     "grade": false,
     "grade_id": "q3",
     "locked": true,
     "schema_version": 2,
     "solution": false
    }
   },
   "source": [
    "---\n",
    "# Part 1: Importing the Data\n",
    "\n",
    "We will again use the `fetch_and_cache` utility to download the dataset. "
   ]
  },
  {
   "cell_type": "code",
   "execution_count": 3,
   "metadata": {
    "nbgrader": {
     "grade": false,
     "grade_id": "download-data",
     "locked": true,
     "schema_version": 2,
     "solution": false
    }
   },
   "outputs": [
    {
     "name": "stdout",
     "output_type": "stream",
     "text": [
      "Using version already downloaded: Sat Feb 23 11:48:17 2019\n",
      "MD5 hash of file: f26e90f51b3d7b304d8db1ad5bee2f57\n",
      "Located at data/hw3-realdonaldtrump_tweets.json.zip\n"
     ]
    }
   ],
   "source": [
    "# Download the dataset\n",
    "from ds100_utils import fetch_and_cache\n",
    "data_url = 'http://www.ds100.org/sp19/assets/datasets/hw3-realdonaldtrump_tweets.json.zip'\n",
    "file_name = 'hw3-realdonaldtrump_tweets.json.zip'\n",
    "\n",
    "dest_path = fetch_and_cache(data_url=data_url, file=file_name)\n",
    "print(f'Located at {dest_path}')"
   ]
  },
  {
   "cell_type": "markdown",
   "metadata": {},
   "source": [
    "Now that we've downloaded the tweets, let's unzip them and load them into our notebook. Run the cell below to unzip and read tweets from the json file into a list named `all_tweets`."
   ]
  },
  {
   "cell_type": "code",
   "execution_count": 4,
   "metadata": {},
   "outputs": [],
   "source": [
    "# Unzip the dataset\n",
    "my_zip = zipfile.ZipFile(dest_path, 'r')\n",
    "with my_zip.open('hw3-realdonaldtrump_tweets.json', 'r') as f:\n",
    "    all_tweets = json.load(f)"
   ]
  },
  {
   "cell_type": "markdown",
   "metadata": {
    "nbgrader": {
     "grade": false,
     "grade_id": "formatting-note",
     "locked": true,
     "schema_version": 2,
     "solution": false
    }
   },
   "source": [
    "Here is what a typical tweet from `all_tweets` looks like:"
   ]
  },
  {
   "cell_type": "code",
   "execution_count": 5,
   "metadata": {
    "nbgrader": {
     "grade": false,
     "grade_id": "pprint-old-tweets",
     "locked": true,
     "schema_version": 2,
     "solution": false
    },
    "scrolled": false
   },
   "outputs": [
    {
     "name": "stdout",
     "output_type": "stream",
     "text": [
      "{'contributors': None,\n",
      " 'coordinates': None,\n",
      " 'created_at': 'Tue Oct 16 18:40:18 +0000 2018',\n",
      " 'display_text_range': [0, 174],\n",
      " 'entities': {'hashtags': [], 'symbols': [], 'urls': [], 'user_mentions': []},\n",
      " 'favorite_count': 52115,\n",
      " 'favorited': False,\n",
      " 'full_text': 'Just spoke with the Crown Prince of Saudi Arabia who totally '\n",
      "              'denied any knowledge of what took place in their Turkish '\n",
      "              'Consulate. He was with Secretary of State Mike Pompeo...',\n",
      " 'geo': None,\n",
      " 'id': 1052268011900555265,\n",
      " 'id_str': '1052268011900555265',\n",
      " 'in_reply_to_screen_name': None,\n",
      " 'in_reply_to_status_id': None,\n",
      " 'in_reply_to_status_id_str': None,\n",
      " 'in_reply_to_user_id': None,\n",
      " 'in_reply_to_user_id_str': None,\n",
      " 'is_quote_status': False,\n",
      " 'lang': 'en',\n",
      " 'place': None,\n",
      " 'retweet_count': 13493,\n",
      " 'retweeted': False,\n",
      " 'source': '<a href=\"http://twitter.com/download/iphone\" '\n",
      "           'rel=\"nofollow\">Twitter for iPhone</a>',\n",
      " 'truncated': False,\n",
      " 'user': {'contributors_enabled': False,\n",
      "          'created_at': 'Wed Mar 18 13:46:38 +0000 2009',\n",
      "          'default_profile': False,\n",
      "          'default_profile_image': False,\n",
      "          'description': '45th President of the United States of America🇺🇸',\n",
      "          'entities': {'description': {'urls': []},\n",
      "                       'url': {'urls': [{'display_url': 'Instagram.com/realDonaldTrump',\n",
      "                                         'expanded_url': 'http://www.Instagram.com/realDonaldTrump',\n",
      "                                         'indices': [0, 23],\n",
      "                                         'url': 'https://t.co/OMxB0x7xC5'}]}},\n",
      "          'favourites_count': 7,\n",
      "          'follow_request_sent': False,\n",
      "          'followers_count': 58311576,\n",
      "          'following': True,\n",
      "          'friends_count': 45,\n",
      "          'geo_enabled': True,\n",
      "          'has_extended_profile': False,\n",
      "          'id': 25073877,\n",
      "          'id_str': '25073877',\n",
      "          'is_translation_enabled': True,\n",
      "          'is_translator': False,\n",
      "          'lang': 'en',\n",
      "          'listed_count': 100264,\n",
      "          'location': 'Washington, DC',\n",
      "          'name': 'Donald J. Trump',\n",
      "          'notifications': False,\n",
      "          'profile_background_color': '6D5C18',\n",
      "          'profile_background_image_url': 'http://abs.twimg.com/images/themes/theme1/bg.png',\n",
      "          'profile_background_image_url_https': 'https://abs.twimg.com/images/themes/theme1/bg.png',\n",
      "          'profile_background_tile': True,\n",
      "          'profile_banner_url': 'https://pbs.twimg.com/profile_banners/25073877/1550087458',\n",
      "          'profile_image_url': 'http://pbs.twimg.com/profile_images/874276197357596672/kUuht00m_normal.jpg',\n",
      "          'profile_image_url_https': 'https://pbs.twimg.com/profile_images/874276197357596672/kUuht00m_normal.jpg',\n",
      "          'profile_link_color': '1B95E0',\n",
      "          'profile_sidebar_border_color': 'BDDCAD',\n",
      "          'profile_sidebar_fill_color': 'C5CEC0',\n",
      "          'profile_text_color': '333333',\n",
      "          'profile_use_background_image': True,\n",
      "          'protected': False,\n",
      "          'screen_name': 'realDonaldTrump',\n",
      "          'statuses_count': 40563,\n",
      "          'time_zone': None,\n",
      "          'translator_type': 'regular',\n",
      "          'url': 'https://t.co/OMxB0x7xC5',\n",
      "          'utc_offset': None,\n",
      "          'verified': True}}\n"
     ]
    }
   ],
   "source": [
    "from pprint import pprint # to get a more easily-readable view.\n",
    "pprint(all_tweets[-1])"
   ]
  },
  {
   "cell_type": "markdown",
   "metadata": {
    "deletable": false,
    "editable": false,
    "nbgrader": {
     "grade": false,
     "grade_id": "q3b",
     "locked": true,
     "schema_version": 2,
     "solution": false
    }
   },
   "source": [
    "## Question 1\n",
    "\n",
    "Construct a DataFrame called `trump` containing data from all the tweets stored in `all_tweets`. The index of the DataFrame should be the ID of each tweet (looks something like `907698529606541312`). It should have these columns:\n",
    "\n",
    "- `time`: The time the tweet was created encoded as a datetime object. (Use `pd.to_datetime` to encode the timestamp.)\n",
    "- `source`: The source device of the tweet.\n",
    "- `text`: The text of the tweet.\n",
    "- `retweet_count`: The retweet count of the tweet. \n",
    "\n",
    "Finally, **the resulting DataFrame should be sorted by the index.**\n",
    "\n",
    "**Warning:** *Some tweets will store the text in the `text` field and other will use the `full_text` field.*\n",
    "\n",
    "<!--\n",
    "BEGIN QUESTION\n",
    "name: q1\n",
    "points: 2\n",
    "-->"
   ]
  },
  {
   "cell_type": "code",
   "execution_count": 6,
   "metadata": {
    "nbgrader": {
     "grade": false,
     "grade_id": "q3b-answer",
     "locked": false,
     "schema_version": 2,
     "solution": true
    },
    "scrolled": true,
    "tags": [
     "student"
    ]
   },
   "outputs": [
    {
     "data": {
      "text/plain": [
       "time                                                                            2017-07-11 11:46:00\n",
       "source           <a href=\"http://twitter.com/download/iphone\" rel=\"nofollow\">Twitter for iPhone</a>\n",
       "text                     Working hard to get the Olympics for the United States (L.A.). Stay tuned!\n",
       "retweet_count                                                                                 20120\n",
       "Name: 884740553040175104, dtype: object"
      ]
     },
     "execution_count": 6,
     "metadata": {},
     "output_type": "execute_result"
    }
   ],
   "source": [
    "trump = pd.DataFrame(all_tweets).loc[:, ['id', 'created_at', 'source', 'full_text', 'text', 'retweet_count']]\n",
    "trump['combined_text'] = trump.fillna('')['full_text'] + trump.fillna('')['text']\n",
    "trump = trump.loc[:, ['id', 'created_at', 'source', 'combined_text', 'retweet_count']]\n",
    "trump = trump.rename({'id':'ID', 'created_at':'time', 'source':'source', 'combined_text':'text', 'retweet_count':'retweet_count'}, axis='columns')\n",
    "trump = trump.sort_values(by=['ID']).set_index('ID')\n",
    "trump['time'] = pd.to_datetime(trump['time'])\n",
    "trump.loc[884740553040175104]"
   ]
  },
  {
   "cell_type": "code",
   "execution_count": 7,
   "metadata": {
    "deletable": false,
    "editable": false
   },
   "outputs": [
    {
     "name": "stdout",
     "output_type": "stream",
     "text": [
      "~~~~~~~~~~~~~~~~~~~~~~~~~~~~~~~~~~~~~~~~~~~~~~~~~~~~~~~~~~~~~~~~~~~~~\n",
      "Running tests\n",
      "\n",
      "---------------------------------------------------------------------\n",
      "Test summary\n",
      "    Passed: 9\n",
      "    Failed: 0\n",
      "[ooooooooook] 100.0% passed\n",
      "\n"
     ]
    }
   ],
   "source": [
    "ok.grade(\"q1\");"
   ]
  },
  {
   "cell_type": "markdown",
   "metadata": {
    "nbgrader": {
     "grade": false,
     "grade_id": "question4",
     "locked": true,
     "schema_version": 2,
     "solution": false
    }
   },
   "source": [
    "---\n",
    "# Part 2: Tweet Source Analysis\n",
    "\n",
    "In the following questions, we are going to find out the charateristics of Trump tweets and the devices used for the tweets.\n",
    "\n",
    "First let's examine the source field:"
   ]
  },
  {
   "cell_type": "code",
   "execution_count": 8,
   "metadata": {
    "nbgrader": {
     "grade": false,
     "grade_id": "unique-sources",
     "locked": true,
     "schema_version": 2,
     "solution": false
    }
   },
   "outputs": [
    {
     "data": {
      "text/plain": [
       "array(['<a href=\"http://twitter.com/download/android\" rel=\"nofollow\">Twitter for Android</a>',\n",
       "       '<a href=\"http://twitter.com/download/iphone\" rel=\"nofollow\">Twitter for iPhone</a>',\n",
       "       '<a href=\"http://twitter.com\" rel=\"nofollow\">Twitter Web Client</a>',\n",
       "       '<a href=\"https://mobile.twitter.com\" rel=\"nofollow\">Mobile Web (M5)</a>',\n",
       "       '<a href=\"http://instagram.com\" rel=\"nofollow\">Instagram</a>',\n",
       "       '<a href=\"http://twitter.com/#!/download/ipad\" rel=\"nofollow\">Twitter for iPad</a>',\n",
       "       '<a href=\"https://studio.twitter.com\" rel=\"nofollow\">Media Studio</a>',\n",
       "       '<a href=\"https://periscope.tv\" rel=\"nofollow\">Periscope</a>',\n",
       "       '<a href=\"https://ads.twitter.com\" rel=\"nofollow\">Twitter Ads</a>',\n",
       "       '<a href=\"https://studio.twitter.com\" rel=\"nofollow\">Twitter Media Studio</a>'],\n",
       "      dtype=object)"
      ]
     },
     "execution_count": 8,
     "metadata": {},
     "output_type": "execute_result"
    }
   ],
   "source": [
    "trump['source'].unique()"
   ]
  },
  {
   "cell_type": "markdown",
   "metadata": {
    "deletable": false,
    "editable": false,
    "nbgrader": {
     "grade": false,
     "grade_id": "q4a",
     "locked": true,
     "schema_version": 2,
     "solution": false
    }
   },
   "source": [
    "## Question 2\n",
    "\n",
    "Notice how sources like \"Twitter for Android\" or \"Instagram\" are surrounded by HTML tags. In the cell below, clean up the `source` field by removing the HTML tags from each `source` entry.\n",
    "\n",
    "**Hints:** \n",
    "* Use `trump['source'].str.replace` along with a regular expression.\n",
    "* You may find it helpful to experiment with regular expressions at [regex101.com](https://regex101.com/).\n",
    "\n",
    "<!--\n",
    "BEGIN QUESTION\n",
    "name: q2\n",
    "points: 1\n",
    "-->"
   ]
  },
  {
   "cell_type": "code",
   "execution_count": 9,
   "metadata": {
    "nbgrader": {
     "grade": false,
     "grade_id": "q4a-answer",
     "locked": false,
     "schema_version": 2,
     "solution": true
    }
   },
   "outputs": [
    {
     "data": {
      "text/html": [
       "<div>\n",
       "<style scoped>\n",
       "    .dataframe tbody tr th:only-of-type {\n",
       "        vertical-align: middle;\n",
       "    }\n",
       "\n",
       "    .dataframe tbody tr th {\n",
       "        vertical-align: top;\n",
       "    }\n",
       "\n",
       "    .dataframe thead th {\n",
       "        text-align: right;\n",
       "    }\n",
       "</style>\n",
       "<table border=\"1\" class=\"dataframe\">\n",
       "  <thead>\n",
       "    <tr style=\"text-align: right;\">\n",
       "      <th></th>\n",
       "      <th>time</th>\n",
       "      <th>source</th>\n",
       "      <th>text</th>\n",
       "      <th>retweet_count</th>\n",
       "    </tr>\n",
       "    <tr>\n",
       "      <th>ID</th>\n",
       "      <th></th>\n",
       "      <th></th>\n",
       "      <th></th>\n",
       "      <th></th>\n",
       "    </tr>\n",
       "  </thead>\n",
       "  <tbody>\n",
       "    <tr>\n",
       "      <th>690171032150237184</th>\n",
       "      <td>2016-01-21 13:56:11</td>\n",
       "      <td>Twitter for Android</td>\n",
       "      <td>\"@bigop1: @realDonaldTrump  @SarahPalinUSA https://t.co/3kYQGqeVyD\"</td>\n",
       "      <td>1059</td>\n",
       "    </tr>\n",
       "    <tr>\n",
       "      <th>690171403388104704</th>\n",
       "      <td>2016-01-21 13:57:39</td>\n",
       "      <td>Twitter for Android</td>\n",
       "      <td>\"@AmericanAsPie:  @glennbeck @SarahPalinUSA Remember when Glenn gave out gifts to ILLEGAL ALIENS at crossing the border? Me too!\"</td>\n",
       "      <td>1339</td>\n",
       "    </tr>\n",
       "    <tr>\n",
       "      <th>690173226341691392</th>\n",
       "      <td>2016-01-21 14:04:54</td>\n",
       "      <td>Twitter for Android</td>\n",
       "      <td>So sad that @CNN and many others refused to show the massive crowd at the arena yesterday in Oklahoma. Dishonest reporting!</td>\n",
       "      <td>2006</td>\n",
       "    </tr>\n",
       "    <tr>\n",
       "      <th>690176882055114758</th>\n",
       "      <td>2016-01-21 14:19:26</td>\n",
       "      <td>Twitter for Android</td>\n",
       "      <td>Sad sack @JebBush has just done another ad on me, with special interest money, saying I won't beat Hillary - I WILL. But he can't beat me.</td>\n",
       "      <td>2266</td>\n",
       "    </tr>\n",
       "    <tr>\n",
       "      <th>690180284189310976</th>\n",
       "      <td>2016-01-21 14:32:57</td>\n",
       "      <td>Twitter for Android</td>\n",
       "      <td>Low energy candidate @JebBush has wasted $80 million on his failed presidential campaign. Millions spent on me. He should go home and relax!</td>\n",
       "      <td>2886</td>\n",
       "    </tr>\n",
       "  </tbody>\n",
       "</table>\n",
       "</div>"
      ],
      "text/plain": [
       "                                  time               source  \\\n",
       "ID                                                            \n",
       "690171032150237184 2016-01-21 13:56:11  Twitter for Android   \n",
       "690171403388104704 2016-01-21 13:57:39  Twitter for Android   \n",
       "690173226341691392 2016-01-21 14:04:54  Twitter for Android   \n",
       "690176882055114758 2016-01-21 14:19:26  Twitter for Android   \n",
       "690180284189310976 2016-01-21 14:32:57  Twitter for Android   \n",
       "\n",
       "                                                                                                                                                            text  \\\n",
       "ID                                                                                                                                                                 \n",
       "690171032150237184                                                                           \"@bigop1: @realDonaldTrump  @SarahPalinUSA https://t.co/3kYQGqeVyD\"   \n",
       "690171403388104704             \"@AmericanAsPie:  @glennbeck @SarahPalinUSA Remember when Glenn gave out gifts to ILLEGAL ALIENS at crossing the border? Me too!\"   \n",
       "690173226341691392                   So sad that @CNN and many others refused to show the massive crowd at the arena yesterday in Oklahoma. Dishonest reporting!   \n",
       "690176882055114758    Sad sack @JebBush has just done another ad on me, with special interest money, saying I won't beat Hillary - I WILL. But he can't beat me.   \n",
       "690180284189310976  Low energy candidate @JebBush has wasted $80 million on his failed presidential campaign. Millions spent on me. He should go home and relax!   \n",
       "\n",
       "                    retweet_count  \n",
       "ID                                 \n",
       "690171032150237184           1059  \n",
       "690171403388104704           1339  \n",
       "690173226341691392           2006  \n",
       "690176882055114758           2266  \n",
       "690180284189310976           2886  "
      ]
     },
     "execution_count": 9,
     "metadata": {},
     "output_type": "execute_result"
    }
   ],
   "source": [
    "## Uncomment and complete\n",
    "trump['source'] = trump['source'].str.replace('<[^>]+>', '')\n",
    "trump.head()"
   ]
  },
  {
   "cell_type": "code",
   "execution_count": 10,
   "metadata": {
    "deletable": false,
    "editable": false
   },
   "outputs": [
    {
     "name": "stdout",
     "output_type": "stream",
     "text": [
      "~~~~~~~~~~~~~~~~~~~~~~~~~~~~~~~~~~~~~~~~~~~~~~~~~~~~~~~~~~~~~~~~~~~~~\n",
      "Running tests\n",
      "\n",
      "---------------------------------------------------------------------\n",
      "Test summary\n",
      "    Passed: 1\n",
      "    Failed: 0\n",
      "[ooooooooook] 100.0% passed\n",
      "\n"
     ]
    }
   ],
   "source": [
    "ok.grade(\"q2\");"
   ]
  },
  {
   "cell_type": "markdown",
   "metadata": {
    "nbgrader": {
     "grade": false,
     "grade_id": "note-about-device-usage",
     "locked": true,
     "schema_version": 2,
     "solution": false
    }
   },
   "source": [
    "In the following plot, we see that there are two device types that are more commonly used than others."
   ]
  },
  {
   "cell_type": "code",
   "execution_count": 11,
   "metadata": {
    "nbgrader": {
     "grade": false,
     "grade_id": "device-usage-plot",
     "locked": true,
     "schema_version": 2,
     "solution": false
    }
   },
   "outputs": [
    {
     "data": {
      "image/png": "[encoded data removed]",
      "text/plain": [
       "<Figure size 576x432 with 1 Axes>"
      ]
     },
     "metadata": {},
     "output_type": "display_data"
    }
   ],
   "source": [
    "plt.figure(figsize=(8, 6))\n",
    "trump['source'].value_counts().plot(kind=\"bar\")\n",
    "plt.ylabel(\"Number of Tweets\")\n",
    "plt.title(\"Number of Tweets by Source\");"
   ]
  },
  {
   "cell_type": "markdown",
   "metadata": {
    "nbgrader": {
     "grade": false,
     "grade_id": "q5",
     "locked": true,
     "schema_version": 2,
     "solution": false
    }
   },
   "source": [
    "## Question 3\n",
    "\n",
    "Now that we have cleaned up the `source` field, let's now look at which device Trump has used over the entire time period of this dataset.\n",
    "\n",
    "To examine the distribution of dates we will convert the date to a fractional year that can be plotted as a distribution.\n",
    "\n",
    "(Code borrowed from https://stackoverflow.com/questions/6451655/python-how-to-convert-datetime-dates-to-decimal-years)"
   ]
  },
  {
   "cell_type": "code",
   "execution_count": 12,
   "metadata": {
    "nbgrader": {
     "grade": false,
     "grade_id": "fractional-year",
     "locked": true,
     "schema_version": 2,
     "solution": false
    }
   },
   "outputs": [],
   "source": [
    "import datetime\n",
    "def year_fraction(date):\n",
    "    start = datetime.date(date.year, 1, 1).toordinal()\n",
    "    year_length = datetime.date(date.year+1, 1, 1).toordinal() - start\n",
    "    return date.year + float(date.toordinal() - start) / year_length\n",
    "\n",
    "trump['year'] = trump['time'].apply(year_fraction)"
   ]
  },
  {
   "cell_type": "markdown",
   "metadata": {
    "deletable": false,
    "editable": false,
    "nbgrader": {
     "grade": false,
     "grade_id": "q5a",
     "locked": true,
     "schema_version": 2,
     "solution": false
    }
   },
   "source": [
    "Now, use `sns.distplot` to overlay the distributions of Trump's 2 most frequently used web technologies over the years. Your final plot should look like:\n",
    "\n",
    "<img src=\"images/source_years_q3.png\" width=\"600px\" />\n",
    "\n",
    "<!--\n",
    "BEGIN QUESTION\n",
    "name: q3\n",
    "points: 2\n",
    "manual: true\n",
    "-->\n",
    "<!-- EXPORT TO PDF -->"
   ]
  },
  {
   "cell_type": "code",
   "execution_count": 13,
   "metadata": {
    "nbgrader": {
     "grade": true,
     "grade_id": "q5a-answer",
     "locked": false,
     "points": 2,
     "schema_version": 2,
     "solution": true
    },
    "scrolled": false
   },
   "outputs": [
    {
     "name": "stderr",
     "output_type": "stream",
     "text": [
      "/srv/conda/envs/data100/lib/python3.6/site-packages/scipy/stats/stats.py:1713: FutureWarning: Using a non-tuple sequence for multidimensional indexing is deprecated; use `arr[tuple(seq)]` instead of `arr[seq]`. In the future this will be interpreted as an array index, `arr[np.array(seq)]`, which will result either in an error or a different result.\n",
      "  return np.add.reduce(sorted[indexer] * weights, axis=axis) / sumval\n"
     ]
    },
    {
     "data": {
      "image/png": "[encoded data removed]",
      "text/plain": [
       "<Figure size 432x288 with 1 Axes>"
      ]
     },
     "metadata": {},
     "output_type": "display_data"
    }
   ],
   "source": [
    "android_source = trump.loc[trump['source'] == 'Twitter for Android']\n",
    "iphone_source = trump.loc[trump['source'] == 'Twitter for iPhone']\n",
    "_ = sns.distplot(iphone_source['year'])\n",
    "_ = sns.distplot(android_source['year'])\n",
    "_ = plt.legend(['iPhone', 'Android'])\n",
    "_ = plt.title('Distributions of Tweet Sources Over Years')"
   ]
  },
  {
   "cell_type": "markdown",
   "metadata": {
    "nbgrader": {
     "grade": false,
     "grade_id": "q4b",
     "locked": true,
     "schema_version": 2,
     "solution": false
    }
   },
   "source": [
    "## Question 4\n",
    "\n",
    "\n",
    "Is there a difference between Trump's tweet behavior across these devices? We will attempt to answer this question in our subsequent analysis.\n",
    "\n",
    "First, we'll take a look at whether Trump's tweets from an Android device come at different times than his tweets from an iPhone. Note that Twitter gives us his tweets in the [UTC timezone](https://www.wikiwand.com/en/List_of_UTC_time_offsets) (notice the `+0000` in the first few tweets)."
   ]
  },
  {
   "cell_type": "code",
   "execution_count": 14,
   "metadata": {
    "nbgrader": {
     "grade": false,
     "grade_id": "tweet-created-at",
     "locked": true,
     "schema_version": 2,
     "solution": false
    }
   },
   "outputs": [
    {
     "name": "stdout",
     "output_type": "stream",
     "text": [
      "Wed Oct 12 14:00:48 +0000 2016\n",
      "Wed Oct 12 13:46:43 +0000 2016\n",
      "Wed Oct 12 12:59:05 +0000 2016\n"
     ]
    }
   ],
   "source": [
    "for tweet in all_tweets[:3]:\n",
    "    print(tweet['created_at'])"
   ]
  },
  {
   "cell_type": "markdown",
   "metadata": {
    "nbgrader": {
     "grade": false,
     "grade_id": "convert-to-est-justification",
     "locked": true,
     "schema_version": 2,
     "solution": false
    }
   },
   "source": [
    "We'll convert the tweet times to US Eastern Time, the timezone of New York and Washington D.C., since those are the places we would expect the most tweet activity from Trump."
   ]
  },
  {
   "cell_type": "code",
   "execution_count": 15,
   "metadata": {
    "nbgrader": {
     "grade": false,
     "grade_id": "convert-to-est",
     "locked": true,
     "schema_version": 2,
     "solution": false
    }
   },
   "outputs": [
    {
     "data": {
      "text/html": [
       "<div>\n",
       "<style scoped>\n",
       "    .dataframe tbody tr th:only-of-type {\n",
       "        vertical-align: middle;\n",
       "    }\n",
       "\n",
       "    .dataframe tbody tr th {\n",
       "        vertical-align: top;\n",
       "    }\n",
       "\n",
       "    .dataframe thead th {\n",
       "        text-align: right;\n",
       "    }\n",
       "</style>\n",
       "<table border=\"1\" class=\"dataframe\">\n",
       "  <thead>\n",
       "    <tr style=\"text-align: right;\">\n",
       "      <th></th>\n",
       "      <th>time</th>\n",
       "      <th>source</th>\n",
       "      <th>text</th>\n",
       "      <th>retweet_count</th>\n",
       "      <th>year</th>\n",
       "      <th>est_time</th>\n",
       "    </tr>\n",
       "    <tr>\n",
       "      <th>ID</th>\n",
       "      <th></th>\n",
       "      <th></th>\n",
       "      <th></th>\n",
       "      <th></th>\n",
       "      <th></th>\n",
       "      <th></th>\n",
       "    </tr>\n",
       "  </thead>\n",
       "  <tbody>\n",
       "    <tr>\n",
       "      <th>690171032150237184</th>\n",
       "      <td>2016-01-21 13:56:11</td>\n",
       "      <td>Twitter for Android</td>\n",
       "      <td>\"@bigop1: @realDonaldTrump  @SarahPalinUSA https://t.co/3kYQGqeVyD\"</td>\n",
       "      <td>1059</td>\n",
       "      <td>2016.054645</td>\n",
       "      <td>2016-01-21 08:56:11-05:00</td>\n",
       "    </tr>\n",
       "    <tr>\n",
       "      <th>690171403388104704</th>\n",
       "      <td>2016-01-21 13:57:39</td>\n",
       "      <td>Twitter for Android</td>\n",
       "      <td>\"@AmericanAsPie:  @glennbeck @SarahPalinUSA Remember when Glenn gave out gifts to ILLEGAL ALIENS at crossing the border? Me too!\"</td>\n",
       "      <td>1339</td>\n",
       "      <td>2016.054645</td>\n",
       "      <td>2016-01-21 08:57:39-05:00</td>\n",
       "    </tr>\n",
       "    <tr>\n",
       "      <th>690173226341691392</th>\n",
       "      <td>2016-01-21 14:04:54</td>\n",
       "      <td>Twitter for Android</td>\n",
       "      <td>So sad that @CNN and many others refused to show the massive crowd at the arena yesterday in Oklahoma. Dishonest reporting!</td>\n",
       "      <td>2006</td>\n",
       "      <td>2016.054645</td>\n",
       "      <td>2016-01-21 09:04:54-05:00</td>\n",
       "    </tr>\n",
       "    <tr>\n",
       "      <th>690176882055114758</th>\n",
       "      <td>2016-01-21 14:19:26</td>\n",
       "      <td>Twitter for Android</td>\n",
       "      <td>Sad sack @JebBush has just done another ad on me, with special interest money, saying I won't beat Hillary - I WILL. But he can't beat me.</td>\n",
       "      <td>2266</td>\n",
       "      <td>2016.054645</td>\n",
       "      <td>2016-01-21 09:19:26-05:00</td>\n",
       "    </tr>\n",
       "    <tr>\n",
       "      <th>690180284189310976</th>\n",
       "      <td>2016-01-21 14:32:57</td>\n",
       "      <td>Twitter for Android</td>\n",
       "      <td>Low energy candidate @JebBush has wasted $80 million on his failed presidential campaign. Millions spent on me. He should go home and relax!</td>\n",
       "      <td>2886</td>\n",
       "      <td>2016.054645</td>\n",
       "      <td>2016-01-21 09:32:57-05:00</td>\n",
       "    </tr>\n",
       "  </tbody>\n",
       "</table>\n",
       "</div>"
      ],
      "text/plain": [
       "                                  time               source  \\\n",
       "ID                                                            \n",
       "690171032150237184 2016-01-21 13:56:11  Twitter for Android   \n",
       "690171403388104704 2016-01-21 13:57:39  Twitter for Android   \n",
       "690173226341691392 2016-01-21 14:04:54  Twitter for Android   \n",
       "690176882055114758 2016-01-21 14:19:26  Twitter for Android   \n",
       "690180284189310976 2016-01-21 14:32:57  Twitter for Android   \n",
       "\n",
       "                                                                                                                                                            text  \\\n",
       "ID                                                                                                                                                                 \n",
       "690171032150237184                                                                           \"@bigop1: @realDonaldTrump  @SarahPalinUSA https://t.co/3kYQGqeVyD\"   \n",
       "690171403388104704             \"@AmericanAsPie:  @glennbeck @SarahPalinUSA Remember when Glenn gave out gifts to ILLEGAL ALIENS at crossing the border? Me too!\"   \n",
       "690173226341691392                   So sad that @CNN and many others refused to show the massive crowd at the arena yesterday in Oklahoma. Dishonest reporting!   \n",
       "690176882055114758    Sad sack @JebBush has just done another ad on me, with special interest money, saying I won't beat Hillary - I WILL. But he can't beat me.   \n",
       "690180284189310976  Low energy candidate @JebBush has wasted $80 million on his failed presidential campaign. Millions spent on me. He should go home and relax!   \n",
       "\n",
       "                    retweet_count         year                  est_time  \n",
       "ID                                                                        \n",
       "690171032150237184           1059  2016.054645 2016-01-21 08:56:11-05:00  \n",
       "690171403388104704           1339  2016.054645 2016-01-21 08:57:39-05:00  \n",
       "690173226341691392           2006  2016.054645 2016-01-21 09:04:54-05:00  \n",
       "690176882055114758           2266  2016.054645 2016-01-21 09:19:26-05:00  \n",
       "690180284189310976           2886  2016.054645 2016-01-21 09:32:57-05:00  "
      ]
     },
     "execution_count": 15,
     "metadata": {},
     "output_type": "execute_result"
    }
   ],
   "source": [
    "trump['est_time'] = (\n",
    "    trump['time'].dt.tz_localize(\"UTC\") # Set initial timezone to UTC\n",
    "                 .dt.tz_convert(\"EST\") # Convert to Eastern Time\n",
    ")\n",
    "trump.head()"
   ]
  },
  {
   "cell_type": "markdown",
   "metadata": {
    "deletable": false,
    "editable": false,
    "nbgrader": {
     "grade": false,
     "grade_id": "need-to-do",
     "locked": true,
     "schema_version": 2,
     "solution": false
    }
   },
   "source": [
    "### Question 4a\n",
    "\n",
    "Add a column called `hour` to the `trump` table which contains the hour of the day as floating point number computed by:\n",
    "\n",
    "$$\n",
    "\\text{hour} + \\frac{\\text{minute}}{60} + \\frac{\\text{second}}{60^2}\n",
    "$$\n",
    "\n",
    "* **Hint:** See the cell above for an example of working with [dt accessors](https://pandas.pydata.org/pandas-docs/stable/getting_started/basics.html#basics-dt-accessors).\n",
    "\n",
    "<!--\n",
    "BEGIN QUESTION\n",
    "name: q4a\n",
    "points: 1\n",
    "-->"
   ]
  },
  {
   "cell_type": "code",
   "execution_count": 16,
   "metadata": {
    "nbgrader": {
     "grade": false,
     "grade_id": "q4b-answer",
     "locked": false,
     "schema_version": 2,
     "solution": true
    },
    "tags": [
     "student"
    ]
   },
   "outputs": [
    {
     "data": {
      "text/html": [
       "<div>\n",
       "<style scoped>\n",
       "    .dataframe tbody tr th:only-of-type {\n",
       "        vertical-align: middle;\n",
       "    }\n",
       "\n",
       "    .dataframe tbody tr th {\n",
       "        vertical-align: top;\n",
       "    }\n",
       "\n",
       "    .dataframe thead th {\n",
       "        text-align: right;\n",
       "    }\n",
       "</style>\n",
       "<table border=\"1\" class=\"dataframe\">\n",
       "  <thead>\n",
       "    <tr style=\"text-align: right;\">\n",
       "      <th></th>\n",
       "      <th>time</th>\n",
       "      <th>source</th>\n",
       "      <th>text</th>\n",
       "      <th>retweet_count</th>\n",
       "      <th>year</th>\n",
       "      <th>est_time</th>\n",
       "      <th>hour</th>\n",
       "    </tr>\n",
       "    <tr>\n",
       "      <th>ID</th>\n",
       "      <th></th>\n",
       "      <th></th>\n",
       "      <th></th>\n",
       "      <th></th>\n",
       "      <th></th>\n",
       "      <th></th>\n",
       "      <th></th>\n",
       "    </tr>\n",
       "  </thead>\n",
       "  <tbody>\n",
       "    <tr>\n",
       "      <th>690171032150237184</th>\n",
       "      <td>2016-01-21 13:56:11</td>\n",
       "      <td>Twitter for Android</td>\n",
       "      <td>\"@bigop1: @realDonaldTrump  @SarahPalinUSA https://t.co/3kYQGqeVyD\"</td>\n",
       "      <td>1059</td>\n",
       "      <td>2016.054645</td>\n",
       "      <td>2016-01-21 08:56:11-05:00</td>\n",
       "      <td>8.936389</td>\n",
       "    </tr>\n",
       "    <tr>\n",
       "      <th>690171403388104704</th>\n",
       "      <td>2016-01-21 13:57:39</td>\n",
       "      <td>Twitter for Android</td>\n",
       "      <td>\"@AmericanAsPie:  @glennbeck @SarahPalinUSA Remember when Glenn gave out gifts to ILLEGAL ALIENS at crossing the border? Me too!\"</td>\n",
       "      <td>1339</td>\n",
       "      <td>2016.054645</td>\n",
       "      <td>2016-01-21 08:57:39-05:00</td>\n",
       "      <td>8.960833</td>\n",
       "    </tr>\n",
       "    <tr>\n",
       "      <th>690173226341691392</th>\n",
       "      <td>2016-01-21 14:04:54</td>\n",
       "      <td>Twitter for Android</td>\n",
       "      <td>So sad that @CNN and many others refused to show the massive crowd at the arena yesterday in Oklahoma. Dishonest reporting!</td>\n",
       "      <td>2006</td>\n",
       "      <td>2016.054645</td>\n",
       "      <td>2016-01-21 09:04:54-05:00</td>\n",
       "      <td>9.081667</td>\n",
       "    </tr>\n",
       "    <tr>\n",
       "      <th>690176882055114758</th>\n",
       "      <td>2016-01-21 14:19:26</td>\n",
       "      <td>Twitter for Android</td>\n",
       "      <td>Sad sack @JebBush has just done another ad on me, with special interest money, saying I won't beat Hillary - I WILL. But he can't beat me.</td>\n",
       "      <td>2266</td>\n",
       "      <td>2016.054645</td>\n",
       "      <td>2016-01-21 09:19:26-05:00</td>\n",
       "      <td>9.323889</td>\n",
       "    </tr>\n",
       "    <tr>\n",
       "      <th>690180284189310976</th>\n",
       "      <td>2016-01-21 14:32:57</td>\n",
       "      <td>Twitter for Android</td>\n",
       "      <td>Low energy candidate @JebBush has wasted $80 million on his failed presidential campaign. Millions spent on me. He should go home and relax!</td>\n",
       "      <td>2886</td>\n",
       "      <td>2016.054645</td>\n",
       "      <td>2016-01-21 09:32:57-05:00</td>\n",
       "      <td>9.549167</td>\n",
       "    </tr>\n",
       "  </tbody>\n",
       "</table>\n",
       "</div>"
      ],
      "text/plain": [
       "                                  time               source  \\\n",
       "ID                                                            \n",
       "690171032150237184 2016-01-21 13:56:11  Twitter for Android   \n",
       "690171403388104704 2016-01-21 13:57:39  Twitter for Android   \n",
       "690173226341691392 2016-01-21 14:04:54  Twitter for Android   \n",
       "690176882055114758 2016-01-21 14:19:26  Twitter for Android   \n",
       "690180284189310976 2016-01-21 14:32:57  Twitter for Android   \n",
       "\n",
       "                                                                                                                                                            text  \\\n",
       "ID                                                                                                                                                                 \n",
       "690171032150237184                                                                           \"@bigop1: @realDonaldTrump  @SarahPalinUSA https://t.co/3kYQGqeVyD\"   \n",
       "690171403388104704             \"@AmericanAsPie:  @glennbeck @SarahPalinUSA Remember when Glenn gave out gifts to ILLEGAL ALIENS at crossing the border? Me too!\"   \n",
       "690173226341691392                   So sad that @CNN and many others refused to show the massive crowd at the arena yesterday in Oklahoma. Dishonest reporting!   \n",
       "690176882055114758    Sad sack @JebBush has just done another ad on me, with special interest money, saying I won't beat Hillary - I WILL. But he can't beat me.   \n",
       "690180284189310976  Low energy candidate @JebBush has wasted $80 million on his failed presidential campaign. Millions spent on me. He should go home and relax!   \n",
       "\n",
       "                    retweet_count         year                  est_time  \\\n",
       "ID                                                                         \n",
       "690171032150237184           1059  2016.054645 2016-01-21 08:56:11-05:00   \n",
       "690171403388104704           1339  2016.054645 2016-01-21 08:57:39-05:00   \n",
       "690173226341691392           2006  2016.054645 2016-01-21 09:04:54-05:00   \n",
       "690176882055114758           2266  2016.054645 2016-01-21 09:19:26-05:00   \n",
       "690180284189310976           2886  2016.054645 2016-01-21 09:32:57-05:00   \n",
       "\n",
       "                        hour  \n",
       "ID                            \n",
       "690171032150237184  8.936389  \n",
       "690171403388104704  8.960833  \n",
       "690173226341691392  9.081667  \n",
       "690176882055114758  9.323889  \n",
       "690180284189310976  9.549167  "
      ]
     },
     "execution_count": 16,
     "metadata": {},
     "output_type": "execute_result"
    }
   ],
   "source": [
    "trump['hour'] = trump['est_time'].dt.hour + (trump['est_time'].dt.minute)/60 + (trump['est_time'].dt.second)/(60**2)\n",
    "trump.head()"
   ]
  },
  {
   "cell_type": "code",
   "execution_count": 17,
   "metadata": {
    "deletable": false,
    "editable": false
   },
   "outputs": [
    {
     "name": "stdout",
     "output_type": "stream",
     "text": [
      "~~~~~~~~~~~~~~~~~~~~~~~~~~~~~~~~~~~~~~~~~~~~~~~~~~~~~~~~~~~~~~~~~~~~~\n",
      "Running tests\n",
      "\n",
      "---------------------------------------------------------------------\n",
      "Test summary\n",
      "    Passed: 1\n",
      "    Failed: 0\n",
      "[ooooooooook] 100.0% passed\n",
      "\n"
     ]
    }
   ],
   "source": [
    "ok.grade(\"q4a\");"
   ]
  },
  {
   "cell_type": "markdown",
   "metadata": {
    "deletable": false,
    "editable": false,
    "nbgrader": {
     "grade": false,
     "grade_id": "q4c",
     "locked": true,
     "schema_version": 2,
     "solution": false
    }
   },
   "source": [
    "### Question 4b\n",
    "\n",
    "Use this data along with the seaborn `distplot` function to examine the distribution over hours of the day in eastern time that trump tweets on each device for the 2 most commonly used devices.  Your plot should look similar to the following:\n",
    "\n",
    "<img src=\"images/device_hour4b.png\" width=\"600px\" />\n",
    "\n",
    "<!--\n",
    "BEGIN QUESTION\n",
    "name: q4b\n",
    "points: 2\n",
    "manual: true\n",
    "-->\n",
    "<!-- EXPORT TO PDF -->"
   ]
  },
  {
   "cell_type": "code",
   "execution_count": 18,
   "metadata": {
    "nbgrader": {
     "grade": true,
     "grade_id": "q4c-answer",
     "locked": false,
     "points": 2,
     "schema_version": 2,
     "solution": true
    }
   },
   "outputs": [
    {
     "data": {
      "image/png": "[encoded data removed]",
      "text/plain": [
       "<Figure size 432x288 with 1 Axes>"
      ]
     },
     "metadata": {},
     "output_type": "display_data"
    }
   ],
   "source": [
    "### make your plot here\n",
    "android_hour = trump.loc[trump['source'] == 'Twitter for Android']\n",
    "iphone_hour = trump.loc[trump['source'] == 'Twitter for iPhone']\n",
    "_ = sns.distplot(iphone_hour['hour'], hist=False, label='iPhone')\n",
    "_ = sns.distplot(android_hour['hour'], hist=False, label='Android')\n",
    "_ = plt.legend()\n",
    "_ = plt.ylabel('fraction')\n",
    "_ = plt.title('Distributions of Tweet Hours for Different Tweet Sources')"
   ]
  },
  {
   "cell_type": "markdown",
   "metadata": {
    "deletable": false,
    "editable": false,
    "nbgrader": {
     "grade": false,
     "grade_id": "q4d",
     "locked": true,
     "schema_version": 2,
     "solution": false
    }
   },
   "source": [
    "### Question 4c\n",
    "\n",
    "According to [this Verge article](https://www.theverge.com/2017/3/29/15103504/donald-trump-iphone-using-switched-android), Donald Trump switched from an Android to an iPhone sometime in March 2017.\n",
    "\n",
    "Let's see if this information significantly changes our plot. Create a figure similar to your figure from question 4b, but this time, only use tweets that were tweeted before 2017. Your plot should look similar to the following:\n",
    "\n",
    "<img src=\"images/device_hour4c.png\" width=\"600px\" />\n",
    "\n",
    "<!--\n",
    "BEGIN QUESTION\n",
    "name: q4c\n",
    "points: 2\n",
    "manual: true\n",
    "-->\n",
    "<!-- EXPORT TO PDF -->"
   ]
  },
  {
   "cell_type": "code",
   "execution_count": 19,
   "metadata": {
    "nbgrader": {
     "grade": true,
     "grade_id": "cell-9d60149ec24272e3",
     "locked": false,
     "points": 0,
     "schema_version": 2,
     "solution": true
    }
   },
   "outputs": [
    {
     "data": {
      "image/png": "[encoded data removed]",
      "text/plain": [
       "<Figure size 432x288 with 1 Axes>"
      ]
     },
     "metadata": {},
     "output_type": "display_data"
    }
   ],
   "source": [
    "### make your plot here\n",
    "android_hour_2 = trump.loc[(trump['source'] == 'Twitter for Android') & (trump['year'] < 2017)]\n",
    "iphone_hour_2 = trump.loc[(trump['source'] == 'Twitter for iPhone') & (trump['year'] < 2017)]\n",
    "_ = sns.distplot(iphone_hour_2['hour'], hist=False, label='iPhone')\n",
    "_ = sns.distplot(android_hour_2['hour'], hist=False, label='Android')\n",
    "_ = plt.legend()\n",
    "_ = plt.ylabel('fraction')\n",
    "_ = plt.title('Distributions of Tweet Hours for Different Tweet Sources (pre-2017)')"
   ]
  },
  {
   "cell_type": "markdown",
   "metadata": {
    "deletable": false,
    "editable": false
   },
   "source": [
    "### Question 4d\n",
    "\n",
    "During the campaign, it was theorized that Donald Trump's tweets from Android devices were written by him personally, and the tweets from iPhones were from his staff. Does your figure give support to this theory? What kinds of additional analysis could help support or reject this claim?\n",
    "\n",
    "<!--\n",
    "BEGIN QUESTION\n",
    "name: q4d\n",
    "points: 1\n",
    "manual: true\n",
    "-->\n",
    "<!-- EXPORT TO PDF -->"
   ]
  },
  {
   "cell_type": "markdown",
   "metadata": {
    "nbgrader": {
     "grade": true,
     "grade_id": "q4d-answer",
     "locked": false,
     "points": 1,
     "schema_version": 2,
     "solution": true
    },
    "tags": [
     "student",
     "written"
    ]
   },
   "source": [
    "I belive the plot above supports this theory because there is a decrease in tweets from his Android during working hours, between 8am to 8pm, whereas there is an increase in tweets from his iPhone during the same time period. This observation reasonbly supports the theory because staff members will likely be 'working' during the times they post tweets for Trump and Trump most likely has more time for personal tweets when he is away from work. In order to better support or reject this claim, we could, for instance, observe source behavior during holidays or weekends."
   ]
  },
  {
   "cell_type": "markdown",
   "metadata": {
    "nbgrader": {
     "grade": false,
     "grade_id": "q6-header",
     "locked": true,
     "schema_version": 2,
     "solution": false
    }
   },
   "source": [
    "---\n",
    "# Part 3: Sentiment Analysis\n",
    "\n",
    "It turns out that we can use the words in Trump's tweets to calculate a measure of the sentiment of the tweet. For example, the sentence \"I love America!\" has positive sentiment, whereas the sentence \"I hate taxes!\" has a negative sentiment. In addition, some words have stronger positive / negative sentiment than others: \"I love America.\" is more positive than \"I like America.\"\n",
    "\n",
    "We will use the [VADER (Valence Aware Dictionary and sEntiment Reasoner)](https://github.com/cjhutto/vaderSentiment) lexicon to analyze the sentiment of Trump's tweets. VADER is a lexicon and rule-based sentiment analysis tool that is specifically attuned to sentiments expressed in social media which is great for our usage.\n",
    "\n",
    "The VADER lexicon gives the sentiment of individual words. Run the following cell to show the first few rows of the lexicon:"
   ]
  },
  {
   "cell_type": "code",
   "execution_count": 20,
   "metadata": {
    "nbgrader": {
     "grade": false,
     "grade_id": "head-vader",
     "locked": true,
     "schema_version": 2,
     "solution": false
    }
   },
   "outputs": [
    {
     "name": "stdout",
     "output_type": "stream",
     "text": [
      "$:\t-1.5\t0.80623\t[-1, -1, -1, -1, -3, -1, -3, -1, -2, -1]\n",
      "%)\t-0.4\t1.0198\t[-1, 0, -1, 0, 0, -2, -1, 2, -1, 0]\n",
      "%-)\t-1.5\t1.43178\t[-2, 0, -2, -2, -1, 2, -2, -3, -2, -3]\n",
      "&-:\t-0.4\t1.42829\t[-3, -1, 0, 0, -1, -1, -1, 2, -1, 2]\n",
      "&:\t-0.7\t0.64031\t[0, -1, -1, -1, 1, -1, -1, -1, -1, -1]\n",
      "( '}{' )\t1.6\t0.66332\t[1, 2, 2, 1, 1, 2, 2, 1, 3, 1]\n",
      "(%\t-0.9\t0.9434\t[0, 0, 1, -1, -1, -1, -2, -2, -1, -2]\n",
      "('-:\t2.2\t1.16619\t[4, 1, 4, 3, 1, 2, 3, 1, 2, 1]\n",
      "(':\t2.3\t0.9\t[1, 3, 3, 2, 2, 4, 2, 3, 1, 2]\n",
      "((-:\t2.1\t0.53852\t[2, 2, 2, 1, 2, 3, 2, 2, 3, 2]\n",
      "\n"
     ]
    }
   ],
   "source": [
    "print(''.join(open(\"vader_lexicon.txt\").readlines()[:10]))"
   ]
  },
  {
   "cell_type": "markdown",
   "metadata": {
    "deletable": false,
    "editable": false,
    "nbgrader": {
     "grade": false,
     "grade_id": "q6a-header",
     "locked": true,
     "schema_version": 2,
     "solution": false
    }
   },
   "source": [
    "## Question 5\n",
    "\n",
    "As you can see, the lexicon contains emojis too! Each row contains a word and the *polarity* of that word, measuring how positive or negative the word is.\n",
    "\n",
    "(How did they decide the polarities of these words? What are the other two columns in the lexicon? See the link above.)\n",
    "\n",
    "### Question 5a\n",
    "\n",
    "Read in the lexicon into a DataFrame called `sent`. The index of the DataFrame should be the words in the lexicon. `sent` should have one column named `polarity`, storing the polarity of each word.\n",
    "\n",
    "* **Hint:** The `pd.read_csv` function may help here. \n",
    "\n",
    "<!--\n",
    "BEGIN QUESTION\n",
    "name: q5a\n",
    "points: 1\n",
    "-->"
   ]
  },
  {
   "cell_type": "code",
   "execution_count": 21,
   "metadata": {
    "nbgrader": {
     "grade": false,
     "grade_id": "q6a1",
     "locked": false,
     "schema_version": 2,
     "solution": true
    },
    "tags": [
     "student"
    ]
   },
   "outputs": [
    {
     "data": {
      "text/html": [
       "<div>\n",
       "<style scoped>\n",
       "    .dataframe tbody tr th:only-of-type {\n",
       "        vertical-align: middle;\n",
       "    }\n",
       "\n",
       "    .dataframe tbody tr th {\n",
       "        vertical-align: top;\n",
       "    }\n",
       "\n",
       "    .dataframe thead th {\n",
       "        text-align: right;\n",
       "    }\n",
       "</style>\n",
       "<table border=\"1\" class=\"dataframe\">\n",
       "  <thead>\n",
       "    <tr style=\"text-align: right;\">\n",
       "      <th></th>\n",
       "      <th>polarity</th>\n",
       "    </tr>\n",
       "    <tr>\n",
       "      <th>word</th>\n",
       "      <th></th>\n",
       "    </tr>\n",
       "  </thead>\n",
       "  <tbody>\n",
       "    <tr>\n",
       "      <th>$:</th>\n",
       "      <td>-1.5</td>\n",
       "    </tr>\n",
       "    <tr>\n",
       "      <th>%)</th>\n",
       "      <td>-0.4</td>\n",
       "    </tr>\n",
       "    <tr>\n",
       "      <th>%-)</th>\n",
       "      <td>-1.5</td>\n",
       "    </tr>\n",
       "    <tr>\n",
       "      <th>&amp;-:</th>\n",
       "      <td>-0.4</td>\n",
       "    </tr>\n",
       "    <tr>\n",
       "      <th>&amp;:</th>\n",
       "      <td>-0.7</td>\n",
       "    </tr>\n",
       "  </tbody>\n",
       "</table>\n",
       "</div>"
      ],
      "text/plain": [
       "      polarity\n",
       "word          \n",
       "$:        -1.5\n",
       "%)        -0.4\n",
       "%-)       -1.5\n",
       "&-:       -0.4\n",
       "&:        -0.7"
      ]
     },
     "execution_count": 21,
     "metadata": {},
     "output_type": "execute_result"
    }
   ],
   "source": [
    "sent = pd.read_csv('vader_lexicon.txt', sep='\\t', header=None).loc[:, [0, 1]]\n",
    "sent = sent.rename({0:'word', 1:'polarity'}, axis='columns').set_index('word')\n",
    "sent.head()"
   ]
  },
  {
   "cell_type": "code",
   "execution_count": 22,
   "metadata": {
    "deletable": false,
    "editable": false
   },
   "outputs": [
    {
     "name": "stdout",
     "output_type": "stream",
     "text": [
      "~~~~~~~~~~~~~~~~~~~~~~~~~~~~~~~~~~~~~~~~~~~~~~~~~~~~~~~~~~~~~~~~~~~~~\n",
      "Running tests\n",
      "\n",
      "---------------------------------------------------------------------\n",
      "Test summary\n",
      "    Passed: 4\n",
      "    Failed: 0\n",
      "[ooooooooook] 100.0% passed\n",
      "\n"
     ]
    }
   ],
   "source": [
    "ok.grade(\"q5a\");"
   ]
  },
  {
   "cell_type": "markdown",
   "metadata": {
    "deletable": false,
    "editable": false,
    "nbgrader": {
     "grade": false,
     "grade_id": "q6b-header",
     "locked": true,
     "schema_version": 2,
     "solution": false
    }
   },
   "source": [
    "### Question 5b\n",
    "\n",
    "Now, let's use this lexicon to calculate the overall sentiment for each of Trump's tweets. Here's the basic idea:\n",
    "\n",
    "1. For each tweet, find the sentiment of each word.\n",
    "2. Calculate the sentiment of each tweet by taking the sum of the sentiments of its words.\n",
    "\n",
    "First, let's lowercase the text in the tweets since the lexicon is also lowercase. Set the `text` column of the `trump` DataFrame to be the lowercased text of each tweet.\n",
    "\n",
    "<!--\n",
    "BEGIN QUESTION\n",
    "name: q5b\n",
    "points: 1\n",
    "-->"
   ]
  },
  {
   "cell_type": "code",
   "execution_count": 23,
   "metadata": {
    "nbgrader": {
     "grade": false,
     "grade_id": "q6b-answer",
     "locked": false,
     "schema_version": 2,
     "solution": true
    },
    "tags": [
     "student"
    ]
   },
   "outputs": [
    {
     "data": {
      "text/html": [
       "<div>\n",
       "<style scoped>\n",
       "    .dataframe tbody tr th:only-of-type {\n",
       "        vertical-align: middle;\n",
       "    }\n",
       "\n",
       "    .dataframe tbody tr th {\n",
       "        vertical-align: top;\n",
       "    }\n",
       "\n",
       "    .dataframe thead th {\n",
       "        text-align: right;\n",
       "    }\n",
       "</style>\n",
       "<table border=\"1\" class=\"dataframe\">\n",
       "  <thead>\n",
       "    <tr style=\"text-align: right;\">\n",
       "      <th></th>\n",
       "      <th>time</th>\n",
       "      <th>source</th>\n",
       "      <th>text</th>\n",
       "      <th>retweet_count</th>\n",
       "      <th>year</th>\n",
       "      <th>est_time</th>\n",
       "      <th>hour</th>\n",
       "    </tr>\n",
       "    <tr>\n",
       "      <th>ID</th>\n",
       "      <th></th>\n",
       "      <th></th>\n",
       "      <th></th>\n",
       "      <th></th>\n",
       "      <th></th>\n",
       "      <th></th>\n",
       "      <th></th>\n",
       "    </tr>\n",
       "  </thead>\n",
       "  <tbody>\n",
       "    <tr>\n",
       "      <th>690171032150237184</th>\n",
       "      <td>2016-01-21 13:56:11</td>\n",
       "      <td>Twitter for Android</td>\n",
       "      <td>\"@bigop1: @realdonaldtrump  @sarahpalinusa https://t.co/3kyqgqevyd\"</td>\n",
       "      <td>1059</td>\n",
       "      <td>2016.054645</td>\n",
       "      <td>2016-01-21 08:56:11-05:00</td>\n",
       "      <td>8.936389</td>\n",
       "    </tr>\n",
       "    <tr>\n",
       "      <th>690171403388104704</th>\n",
       "      <td>2016-01-21 13:57:39</td>\n",
       "      <td>Twitter for Android</td>\n",
       "      <td>\"@americanaspie:  @glennbeck @sarahpalinusa remember when glenn gave out gifts to illegal aliens at crossing the border? me too!\"</td>\n",
       "      <td>1339</td>\n",
       "      <td>2016.054645</td>\n",
       "      <td>2016-01-21 08:57:39-05:00</td>\n",
       "      <td>8.960833</td>\n",
       "    </tr>\n",
       "    <tr>\n",
       "      <th>690173226341691392</th>\n",
       "      <td>2016-01-21 14:04:54</td>\n",
       "      <td>Twitter for Android</td>\n",
       "      <td>so sad that @cnn and many others refused to show the massive crowd at the arena yesterday in oklahoma. dishonest reporting!</td>\n",
       "      <td>2006</td>\n",
       "      <td>2016.054645</td>\n",
       "      <td>2016-01-21 09:04:54-05:00</td>\n",
       "      <td>9.081667</td>\n",
       "    </tr>\n",
       "    <tr>\n",
       "      <th>690176882055114758</th>\n",
       "      <td>2016-01-21 14:19:26</td>\n",
       "      <td>Twitter for Android</td>\n",
       "      <td>sad sack @jebbush has just done another ad on me, with special interest money, saying i won't beat hillary - i will. but he can't beat me.</td>\n",
       "      <td>2266</td>\n",
       "      <td>2016.054645</td>\n",
       "      <td>2016-01-21 09:19:26-05:00</td>\n",
       "      <td>9.323889</td>\n",
       "    </tr>\n",
       "    <tr>\n",
       "      <th>690180284189310976</th>\n",
       "      <td>2016-01-21 14:32:57</td>\n",
       "      <td>Twitter for Android</td>\n",
       "      <td>low energy candidate @jebbush has wasted $80 million on his failed presidential campaign. millions spent on me. he should go home and relax!</td>\n",
       "      <td>2886</td>\n",
       "      <td>2016.054645</td>\n",
       "      <td>2016-01-21 09:32:57-05:00</td>\n",
       "      <td>9.549167</td>\n",
       "    </tr>\n",
       "  </tbody>\n",
       "</table>\n",
       "</div>"
      ],
      "text/plain": [
       "                                  time               source  \\\n",
       "ID                                                            \n",
       "690171032150237184 2016-01-21 13:56:11  Twitter for Android   \n",
       "690171403388104704 2016-01-21 13:57:39  Twitter for Android   \n",
       "690173226341691392 2016-01-21 14:04:54  Twitter for Android   \n",
       "690176882055114758 2016-01-21 14:19:26  Twitter for Android   \n",
       "690180284189310976 2016-01-21 14:32:57  Twitter for Android   \n",
       "\n",
       "                                                                                                                                                            text  \\\n",
       "ID                                                                                                                                                                 \n",
       "690171032150237184                                                                           \"@bigop1: @realdonaldtrump  @sarahpalinusa https://t.co/3kyqgqevyd\"   \n",
       "690171403388104704             \"@americanaspie:  @glennbeck @sarahpalinusa remember when glenn gave out gifts to illegal aliens at crossing the border? me too!\"   \n",
       "690173226341691392                   so sad that @cnn and many others refused to show the massive crowd at the arena yesterday in oklahoma. dishonest reporting!   \n",
       "690176882055114758    sad sack @jebbush has just done another ad on me, with special interest money, saying i won't beat hillary - i will. but he can't beat me.   \n",
       "690180284189310976  low energy candidate @jebbush has wasted $80 million on his failed presidential campaign. millions spent on me. he should go home and relax!   \n",
       "\n",
       "                    retweet_count         year                  est_time  \\\n",
       "ID                                                                         \n",
       "690171032150237184           1059  2016.054645 2016-01-21 08:56:11-05:00   \n",
       "690171403388104704           1339  2016.054645 2016-01-21 08:57:39-05:00   \n",
       "690173226341691392           2006  2016.054645 2016-01-21 09:04:54-05:00   \n",
       "690176882055114758           2266  2016.054645 2016-01-21 09:19:26-05:00   \n",
       "690180284189310976           2886  2016.054645 2016-01-21 09:32:57-05:00   \n",
       "\n",
       "                        hour  \n",
       "ID                            \n",
       "690171032150237184  8.936389  \n",
       "690171403388104704  8.960833  \n",
       "690173226341691392  9.081667  \n",
       "690176882055114758  9.323889  \n",
       "690180284189310976  9.549167  "
      ]
     },
     "execution_count": 23,
     "metadata": {},
     "output_type": "execute_result"
    }
   ],
   "source": [
    "trump['text'] = trump['text'].str.lower()\n",
    "trump.head()"
   ]
  },
  {
   "cell_type": "code",
   "execution_count": 24,
   "metadata": {
    "deletable": false,
    "editable": false
   },
   "outputs": [
    {
     "name": "stdout",
     "output_type": "stream",
     "text": [
      "~~~~~~~~~~~~~~~~~~~~~~~~~~~~~~~~~~~~~~~~~~~~~~~~~~~~~~~~~~~~~~~~~~~~~\n",
      "Running tests\n",
      "\n",
      "---------------------------------------------------------------------\n",
      "Test summary\n",
      "    Passed: 1\n",
      "    Failed: 0\n",
      "[ooooooooook] 100.0% passed\n",
      "\n"
     ]
    }
   ],
   "source": [
    "ok.grade(\"q5b\");"
   ]
  },
  {
   "cell_type": "markdown",
   "metadata": {
    "deletable": false,
    "editable": false,
    "nbgrader": {
     "grade": false,
     "grade_id": "q6c-header",
     "locked": true,
     "schema_version": 2,
     "solution": false
    }
   },
   "source": [
    "### Question 5c\n",
    "\n",
    "Now, let's get rid of punctuation since it will cause us to fail to match words. Create a new column called `no_punc` in the `trump` DataFrame to be the lowercased text of each tweet with all punctuation replaced by a single space. We consider punctuation characters to be *any character that isn't a Unicode word character or a whitespace character*. You may want to consult the Python documentation on regexes for this problem.\n",
    "\n",
    "(Why don't we simply remove punctuation instead of replacing with a space? See if you can figure this out by looking at the tweet data.)\n",
    "\n",
    "<!--\n",
    "BEGIN QUESTION\n",
    "name: q5c\n",
    "points: 1\n",
    "-->"
   ]
  },
  {
   "cell_type": "code",
   "execution_count": 25,
   "metadata": {
    "nbgrader": {
     "grade": false,
     "grade_id": "q6c",
     "locked": false,
     "schema_version": 2,
     "solution": true
    },
    "tags": [
     "student"
    ]
   },
   "outputs": [
    {
     "data": {
      "text/html": [
       "<div>\n",
       "<style scoped>\n",
       "    .dataframe tbody tr th:only-of-type {\n",
       "        vertical-align: middle;\n",
       "    }\n",
       "\n",
       "    .dataframe tbody tr th {\n",
       "        vertical-align: top;\n",
       "    }\n",
       "\n",
       "    .dataframe thead th {\n",
       "        text-align: right;\n",
       "    }\n",
       "</style>\n",
       "<table border=\"1\" class=\"dataframe\">\n",
       "  <thead>\n",
       "    <tr style=\"text-align: right;\">\n",
       "      <th></th>\n",
       "      <th>time</th>\n",
       "      <th>source</th>\n",
       "      <th>text</th>\n",
       "      <th>retweet_count</th>\n",
       "      <th>year</th>\n",
       "      <th>est_time</th>\n",
       "      <th>hour</th>\n",
       "      <th>no_punc</th>\n",
       "    </tr>\n",
       "    <tr>\n",
       "      <th>ID</th>\n",
       "      <th></th>\n",
       "      <th></th>\n",
       "      <th></th>\n",
       "      <th></th>\n",
       "      <th></th>\n",
       "      <th></th>\n",
       "      <th></th>\n",
       "      <th></th>\n",
       "    </tr>\n",
       "  </thead>\n",
       "  <tbody>\n",
       "    <tr>\n",
       "      <th>690171032150237184</th>\n",
       "      <td>2016-01-21 13:56:11</td>\n",
       "      <td>Twitter for Android</td>\n",
       "      <td>\"@bigop1: @realdonaldtrump  @sarahpalinusa https://t.co/3kyqgqevyd\"</td>\n",
       "      <td>1059</td>\n",
       "      <td>2016.054645</td>\n",
       "      <td>2016-01-21 08:56:11-05:00</td>\n",
       "      <td>8.936389</td>\n",
       "      <td>bigop1   realdonaldtrump   sarahpalinusa https   t co 3kyqgqevyd</td>\n",
       "    </tr>\n",
       "    <tr>\n",
       "      <th>690171403388104704</th>\n",
       "      <td>2016-01-21 13:57:39</td>\n",
       "      <td>Twitter for Android</td>\n",
       "      <td>\"@americanaspie:  @glennbeck @sarahpalinusa remember when glenn gave out gifts to illegal aliens at crossing the border? me too!\"</td>\n",
       "      <td>1339</td>\n",
       "      <td>2016.054645</td>\n",
       "      <td>2016-01-21 08:57:39-05:00</td>\n",
       "      <td>8.960833</td>\n",
       "      <td>americanaspie    glennbeck  sarahpalinusa remember when glenn gave out gifts to illegal aliens at crossing the border  me too</td>\n",
       "    </tr>\n",
       "    <tr>\n",
       "      <th>690173226341691392</th>\n",
       "      <td>2016-01-21 14:04:54</td>\n",
       "      <td>Twitter for Android</td>\n",
       "      <td>so sad that @cnn and many others refused to show the massive crowd at the arena yesterday in oklahoma. dishonest reporting!</td>\n",
       "      <td>2006</td>\n",
       "      <td>2016.054645</td>\n",
       "      <td>2016-01-21 09:04:54-05:00</td>\n",
       "      <td>9.081667</td>\n",
       "      <td>so sad that  cnn and many others refused to show the massive crowd at the arena yesterday in oklahoma  dishonest reporting</td>\n",
       "    </tr>\n",
       "    <tr>\n",
       "      <th>690176882055114758</th>\n",
       "      <td>2016-01-21 14:19:26</td>\n",
       "      <td>Twitter for Android</td>\n",
       "      <td>sad sack @jebbush has just done another ad on me, with special interest money, saying i won't beat hillary - i will. but he can't beat me.</td>\n",
       "      <td>2266</td>\n",
       "      <td>2016.054645</td>\n",
       "      <td>2016-01-21 09:19:26-05:00</td>\n",
       "      <td>9.323889</td>\n",
       "      <td>sad sack  jebbush has just done another ad on me  with special interest money  saying i won t beat hillary   i will  but he can t beat me</td>\n",
       "    </tr>\n",
       "    <tr>\n",
       "      <th>690180284189310976</th>\n",
       "      <td>2016-01-21 14:32:57</td>\n",
       "      <td>Twitter for Android</td>\n",
       "      <td>low energy candidate @jebbush has wasted $80 million on his failed presidential campaign. millions spent on me. he should go home and relax!</td>\n",
       "      <td>2886</td>\n",
       "      <td>2016.054645</td>\n",
       "      <td>2016-01-21 09:32:57-05:00</td>\n",
       "      <td>9.549167</td>\n",
       "      <td>low energy candidate  jebbush has wasted  80 million on his failed presidential campaign  millions spent on me  he should go home and relax</td>\n",
       "    </tr>\n",
       "    <tr>\n",
       "      <th>690271688127213568</th>\n",
       "      <td>2016-01-21 20:36:09</td>\n",
       "      <td>Twitter for iPhone</td>\n",
       "      <td>new day on cnn treats me very badly. @alisyncamerota is a disaster. not going to watch anymore.</td>\n",
       "      <td>1429</td>\n",
       "      <td>2016.054645</td>\n",
       "      <td>2016-01-21 15:36:09-05:00</td>\n",
       "      <td>15.602500</td>\n",
       "      <td>new day on cnn treats me very badly   alisyncamerota is a disaster  not going to watch anymore</td>\n",
       "    </tr>\n",
       "    <tr>\n",
       "      <th>690272687168458754</th>\n",
       "      <td>2016-01-21 20:40:07</td>\n",
       "      <td>Twitter for Android</td>\n",
       "      <td>happy birthday to my friend, the great @jacknicklaus - a totally special guy!</td>\n",
       "      <td>1053</td>\n",
       "      <td>2016.054645</td>\n",
       "      <td>2016-01-21 15:40:07-05:00</td>\n",
       "      <td>15.668611</td>\n",
       "      <td>happy birthday to my friend  the great  jacknicklaus   a totally special guy</td>\n",
       "    </tr>\n",
       "    <tr>\n",
       "      <th>690313350278819840</th>\n",
       "      <td>2016-01-21 23:21:42</td>\n",
       "      <td>Twitter for iPhone</td>\n",
       "      <td>thank you, iowa! #trump2016 https://t.co/ryhehetlqn</td>\n",
       "      <td>2329</td>\n",
       "      <td>2016.054645</td>\n",
       "      <td>2016-01-21 18:21:42-05:00</td>\n",
       "      <td>18.361667</td>\n",
       "      <td>thank you  iowa   trump2016 https   t co ryhehetlqn</td>\n",
       "    </tr>\n",
       "    <tr>\n",
       "      <th>690315202261155840</th>\n",
       "      <td>2016-01-21 23:29:04</td>\n",
       "      <td>Twitter for iPhone</td>\n",
       "      <td>thank you! #trump2016 https://t.co/pcdmyio1zt</td>\n",
       "      <td>1463</td>\n",
       "      <td>2016.054645</td>\n",
       "      <td>2016-01-21 18:29:04-05:00</td>\n",
       "      <td>18.484444</td>\n",
       "      <td>thank you   trump2016 https   t co pcdmyio1zt</td>\n",
       "    </tr>\n",
       "    <tr>\n",
       "      <th>690315366564626433</th>\n",
       "      <td>2016-01-21 23:29:43</td>\n",
       "      <td>Twitter for iPhone</td>\n",
       "      <td>thank you, new hampshire!\\n#trump2016 https://t.co/tg9ozkly4l</td>\n",
       "      <td>1761</td>\n",
       "      <td>2016.054645</td>\n",
       "      <td>2016-01-21 18:29:43-05:00</td>\n",
       "      <td>18.495278</td>\n",
       "      <td>thank you  new hampshire \\n trump2016 https   t co tg9ozkly4l</td>\n",
       "    </tr>\n",
       "    <tr>\n",
       "      <th>690315667636023296</th>\n",
       "      <td>2016-01-21 23:30:55</td>\n",
       "      <td>Twitter for iPhone</td>\n",
       "      <td>#trump2016 #makeamericagreatagain https://t.co/vfuwgigjn4</td>\n",
       "      <td>2217</td>\n",
       "      <td>2016.054645</td>\n",
       "      <td>2016-01-21 18:30:55-05:00</td>\n",
       "      <td>18.515278</td>\n",
       "      <td>trump2016  makeamericagreatagain https   t co vfuwgigjn4</td>\n",
       "    </tr>\n",
       "    <tr>\n",
       "      <th>690336644281581568</th>\n",
       "      <td>2016-01-22 00:54:16</td>\n",
       "      <td>Twitter for iPhone</td>\n",
       "      <td>why does @greta have a fired bushy like dummy, john sununu on- spewing false info? i will beat hillary by a lot, she wants no part of trump.</td>\n",
       "      <td>1576</td>\n",
       "      <td>2016.057377</td>\n",
       "      <td>2016-01-21 19:54:16-05:00</td>\n",
       "      <td>19.904444</td>\n",
       "      <td>why does  greta have a fired bushy like dummy  john sununu on  spewing false info  i will beat hillary by a lot  she wants no part of trump</td>\n",
       "    </tr>\n",
       "    <tr>\n",
       "      <th>690337376061788161</th>\n",
       "      <td>2016-01-22 00:57:10</td>\n",
       "      <td>Twitter for iPhone</td>\n",
       "      <td>thank you, iowa! #fitn #iacaucus\\n#makeamericagreatagain #trump2016 https://t.co/wvjldvtsag</td>\n",
       "      <td>2422</td>\n",
       "      <td>2016.057377</td>\n",
       "      <td>2016-01-21 19:57:10-05:00</td>\n",
       "      <td>19.952778</td>\n",
       "      <td>thank you  iowa   fitn  iacaucus\\n makeamericagreatagain  trump2016 https   t co wvjldvtsag</td>\n",
       "    </tr>\n",
       "    <tr>\n",
       "      <th>690382564494839809</th>\n",
       "      <td>2016-01-22 03:56:44</td>\n",
       "      <td>Twitter for iPhone</td>\n",
       "      <td>national review is a failing publication that has lost it's way. it's circulation is way down w its influence being at an all time low. sad!</td>\n",
       "      <td>2187</td>\n",
       "      <td>2016.057377</td>\n",
       "      <td>2016-01-21 22:56:44-05:00</td>\n",
       "      <td>22.945556</td>\n",
       "      <td>national review is a failing publication that has lost it s way  it s circulation is way down w its influence being at an all time low  sad</td>\n",
       "    </tr>\n",
       "    <tr>\n",
       "      <th>690382619213742082</th>\n",
       "      <td>2016-01-22 03:56:57</td>\n",
       "      <td>Twitter for iPhone</td>\n",
       "      <td>very few people read the national review because it only knows how to criticize, but not how to lead.</td>\n",
       "      <td>1817</td>\n",
       "      <td>2016.057377</td>\n",
       "      <td>2016-01-21 22:56:57-05:00</td>\n",
       "      <td>22.949167</td>\n",
       "      <td>very few people read the national review because it only knows how to criticize  but not how to lead</td>\n",
       "    </tr>\n",
       "    <tr>\n",
       "      <th>690382722162913280</th>\n",
       "      <td>2016-01-22 03:57:22</td>\n",
       "      <td>Twitter for iPhone</td>\n",
       "      <td>the late, great, william f. buckley would be ashamed of what had happened to his prize, the dying national review!</td>\n",
       "      <td>2236</td>\n",
       "      <td>2016.057377</td>\n",
       "      <td>2016-01-21 22:57:22-05:00</td>\n",
       "      <td>22.956111</td>\n",
       "      <td>the late  great  william f  buckley would be ashamed of what had happened to his prize  the dying national review</td>\n",
       "    </tr>\n",
       "    <tr>\n",
       "      <th>690404308010057728</th>\n",
       "      <td>2016-01-22 05:23:08</td>\n",
       "      <td>Twitter for iPhone</td>\n",
       "      <td>rt @williebosshog: make america great again! #trump2016 https://t.co/1h5j4dzdgy</td>\n",
       "      <td>9144</td>\n",
       "      <td>2016.057377</td>\n",
       "      <td>2016-01-22 00:23:08-05:00</td>\n",
       "      <td>0.385556</td>\n",
       "      <td>rt  williebosshog  make america great again   trump2016 https   t co 1h5j4dzdgy</td>\n",
       "    </tr>\n",
       "    <tr>\n",
       "      <th>690528062190944256</th>\n",
       "      <td>2016-01-22 13:34:54</td>\n",
       "      <td>Twitter for Android</td>\n",
       "      <td>ted cruz complains about my views on eminent domain, but without it we wouldn't have roads, highways, airports, schools or even pipelines.</td>\n",
       "      <td>1595</td>\n",
       "      <td>2016.057377</td>\n",
       "      <td>2016-01-22 08:34:54-05:00</td>\n",
       "      <td>8.581667</td>\n",
       "      <td>ted cruz complains about my views on eminent domain  but without it we wouldn t have roads  highways  airports  schools or even pipelines</td>\n",
       "    </tr>\n",
       "    <tr>\n",
       "      <th>690528407117889538</th>\n",
       "      <td>2016-01-22 13:36:16</td>\n",
       "      <td>Twitter for Android</td>\n",
       "      <td>\"@realollietaylor:  isn't it time we had a president? let goofy glen keep canada cruz who can't win. the american people have trump!\"</td>\n",
       "      <td>909</td>\n",
       "      <td>2016.057377</td>\n",
       "      <td>2016-01-22 08:36:16-05:00</td>\n",
       "      <td>8.604444</td>\n",
       "      <td>realollietaylor   isn t it time we had a president  let goofy glen keep canada cruz who can t win  the american people have trump</td>\n",
       "    </tr>\n",
       "    <tr>\n",
       "      <th>690528526181601281</th>\n",
       "      <td>2016-01-22 13:36:44</td>\n",
       "      <td>Twitter for Android</td>\n",
       "      <td>\"@borntobegop: @realdonaldtrump no sleep for the #trumptrain!\"</td>\n",
       "      <td>676</td>\n",
       "      <td>2016.057377</td>\n",
       "      <td>2016-01-22 08:36:44-05:00</td>\n",
       "      <td>8.612222</td>\n",
       "      <td>borntobegop   realdonaldtrump no sleep for the  trumptrain</td>\n",
       "    </tr>\n",
       "    <tr>\n",
       "      <th>690529122326413314</th>\n",
       "      <td>2016-01-22 13:39:06</td>\n",
       "      <td>Twitter for Android</td>\n",
       "      <td>\"@neilturner_: @realdonaldtrump https://t.co/uvn95nb6m0 with your help we can #makeamericagreatagain! #votetrump\"</td>\n",
       "      <td>773</td>\n",
       "      <td>2016.057377</td>\n",
       "      <td>2016-01-22 08:39:06-05:00</td>\n",
       "      <td>8.651667</td>\n",
       "      <td>neilturner_   realdonaldtrump https   t co uvn95nb6m0 with your help we can  makeamericagreatagain   votetrump</td>\n",
       "    </tr>\n",
       "    <tr>\n",
       "      <th>690529690205818880</th>\n",
       "      <td>2016-01-22 13:41:22</td>\n",
       "      <td>Twitter for Android</td>\n",
       "      <td>#tedcruz eligibility to be president not settled law, says cruz' constitutional law professor, #laurencetribe https://t.co/gwkojsbinz\"</td>\n",
       "      <td>753</td>\n",
       "      <td>2016.057377</td>\n",
       "      <td>2016-01-22 08:41:22-05:00</td>\n",
       "      <td>8.689444</td>\n",
       "      <td>tedcruz eligibility to be president not settled law  says cruz  constitutional law professor   laurencetribe https   t co gwkojsbinz</td>\n",
       "    </tr>\n",
       "    <tr>\n",
       "      <th>690530164711624705</th>\n",
       "      <td>2016-01-22 13:43:15</td>\n",
       "      <td>Twitter for Android</td>\n",
       "      <td>\"@trublumajority: #laurencetribe calls cruz \"constitutional hypocrite\" on @wbur https://t.co/qrfintcjlx @pbsgwen @charlierose @jaketapper</td>\n",
       "      <td>637</td>\n",
       "      <td>2016.057377</td>\n",
       "      <td>2016-01-22 08:43:15-05:00</td>\n",
       "      <td>8.720833</td>\n",
       "      <td>trublumajority   laurencetribe calls cruz  constitutional hypocrite  on  wbur https   t co qrfintcjlx  pbsgwen  charlierose  jaketapper</td>\n",
       "    </tr>\n",
       "    <tr>\n",
       "      <th>690532959363866625</th>\n",
       "      <td>2016-01-22 13:54:21</td>\n",
       "      <td>Twitter for Android</td>\n",
       "      <td>highly respected constitutional law professor mary brigid mcmanamon has just stated, \"ted cruz is not eligible to be president.\" big problem</td>\n",
       "      <td>1937</td>\n",
       "      <td>2016.057377</td>\n",
       "      <td>2016-01-22 08:54:21-05:00</td>\n",
       "      <td>8.905833</td>\n",
       "      <td>highly respected constitutional law professor mary brigid mcmanamon has just stated   ted cruz is not eligible to be president   big problem</td>\n",
       "    </tr>\n",
       "    <tr>\n",
       "      <th>690534215478173697</th>\n",
       "      <td>2016-01-22 13:59:21</td>\n",
       "      <td>Twitter for Android</td>\n",
       "      <td>\"@d: #marybrigidmcmanamon, washington post: constitutionally speaking, #cruz simply isn’t eligible to be president https://t.co/dbttgsc1il\"</td>\n",
       "      <td>875</td>\n",
       "      <td>2016.057377</td>\n",
       "      <td>2016-01-22 08:59:21-05:00</td>\n",
       "      <td>8.989167</td>\n",
       "      <td>d   marybrigidmcmanamon  washington post  constitutionally speaking   cruz simply isn t eligible to be president https   t co dbttgsc1il</td>\n",
       "    </tr>\n",
       "    <tr>\n",
       "      <th>690534576066719744</th>\n",
       "      <td>2016-01-22 14:00:47</td>\n",
       "      <td>Twitter for Android</td>\n",
       "      <td>\"@cyberciety: #marybrigidmcmanamon clarified how #commonlaw is used to interpret meaning of #naturalborn #tedcruz https://t.co/5y6szrtdgr\"</td>\n",
       "      <td>799</td>\n",
       "      <td>2016.057377</td>\n",
       "      <td>2016-01-22 09:00:47-05:00</td>\n",
       "      <td>9.013056</td>\n",
       "      <td>cyberciety   marybrigidmcmanamon clarified how  commonlaw is used to interpret meaning of  naturalborn  tedcruz https   t co 5y6szrtdgr</td>\n",
       "    </tr>\n",
       "    <tr>\n",
       "      <th>690537121916923904</th>\n",
       "      <td>2016-01-22 14:10:54</td>\n",
       "      <td>Twitter for Android</td>\n",
       "      <td>\"@miaminewtimes: poll: trump has more support in florida than rubio and bush combined. https://t.co/uvh2bkqrhf https://t.co/2tviaa2afr\"</td>\n",
       "      <td>1738</td>\n",
       "      <td>2016.057377</td>\n",
       "      <td>2016-01-22 09:10:54-05:00</td>\n",
       "      <td>9.181667</td>\n",
       "      <td>miaminewtimes  poll  trump has more support in florida than rubio and bush combined  https   t co uvh2bkqrhf https   t co 2tviaa2afr</td>\n",
       "    </tr>\n",
       "    <tr>\n",
       "      <th>690540484154896384</th>\n",
       "      <td>2016-01-22 14:24:15</td>\n",
       "      <td>Twitter for Android</td>\n",
       "      <td>the failing @nro national review magazine has just been informed by the republican national committee that they cannot participate in debate</td>\n",
       "      <td>2116</td>\n",
       "      <td>2016.057377</td>\n",
       "      <td>2016-01-22 09:24:15-05:00</td>\n",
       "      <td>9.404167</td>\n",
       "      <td>the failing  nro national review magazine has just been informed by the republican national committee that they cannot participate in debate</td>\n",
       "    </tr>\n",
       "    <tr>\n",
       "      <th>690560125916975104</th>\n",
       "      <td>2016-01-22 15:42:18</td>\n",
       "      <td>Twitter for Android</td>\n",
       "      <td>after spending $89 million, @jebbush is at the bottom of the barrel in polls. he is ashamed to use the name \"bush\" in ads. low energy guy!</td>\n",
       "      <td>1661</td>\n",
       "      <td>2016.057377</td>\n",
       "      <td>2016-01-22 10:42:18-05:00</td>\n",
       "      <td>10.705000</td>\n",
       "      <td>after spending  89 million   jebbush is at the bottom of the barrel in polls  he is ashamed to use the name  bush  in ads  low energy guy</td>\n",
       "    </tr>\n",
       "    <tr>\n",
       "      <th>690560942430523392</th>\n",
       "      <td>2016-01-22 15:45:33</td>\n",
       "      <td>Twitter for Android</td>\n",
       "      <td>\"@lisa_milicaj: truth be told, i  never heard of the national review until they \"tried\" to declare war on you. no worries, you got my vote!\"</td>\n",
       "      <td>1110</td>\n",
       "      <td>2016.057377</td>\n",
       "      <td>2016-01-22 10:45:33-05:00</td>\n",
       "      <td>10.759167</td>\n",
       "      <td>lisa_milicaj  truth be told  i  never heard of the national review until they  tried  to declare war on you  no worries  you got my vote</td>\n",
       "    </tr>\n",
       "    <tr>\n",
       "      <th>...</th>\n",
       "      <td>...</td>\n",
       "      <td>...</td>\n",
       "      <td>...</td>\n",
       "      <td>...</td>\n",
       "      <td>...</td>\n",
       "      <td>...</td>\n",
       "      <td>...</td>\n",
       "      <td>...</td>\n",
       "    </tr>\n",
       "    <tr>\n",
       "      <th>1095360852482498561</th>\n",
       "      <td>2019-02-12 16:35:52</td>\n",
       "      <td>Twitter for iPhone</td>\n",
       "      <td>beautiful evening in el paso, texas last night. god bless the usa! https://t.co/trqa75kxln</td>\n",
       "      <td>23660</td>\n",
       "      <td>2019.115068</td>\n",
       "      <td>2019-02-12 11:35:52-05:00</td>\n",
       "      <td>11.597778</td>\n",
       "      <td>beautiful evening in el paso  texas last night  god bless the usa  https   t co trqa75kxln</td>\n",
       "    </tr>\n",
       "    <tr>\n",
       "      <th>1095469447933059073</th>\n",
       "      <td>2019-02-12 23:47:23</td>\n",
       "      <td>Twitter for iPhone</td>\n",
       "      <td>was just presented the concept and parameters of the border security deal by hard working senator richard shelby. looking over all aspects knowing that this will be hooked up with lots of money from other sources....</td>\n",
       "      <td>19412</td>\n",
       "      <td>2019.115068</td>\n",
       "      <td>2019-02-12 18:47:23-05:00</td>\n",
       "      <td>18.789722</td>\n",
       "      <td>was just presented the concept and parameters of the border security deal by hard working senator richard shelby  looking over all aspects knowing that this will be hooked up with lots of money from other sources</td>\n",
       "    </tr>\n",
       "    <tr>\n",
       "      <th>1095469449052868610</th>\n",
       "      <td>2019-02-12 23:47:24</td>\n",
       "      <td>Twitter for iPhone</td>\n",
       "      <td>....will be getting almost $23 billion for border security. regardless of wall money, it is being built as we speak!</td>\n",
       "      <td>25088</td>\n",
       "      <td>2019.115068</td>\n",
       "      <td>2019-02-12 18:47:24-05:00</td>\n",
       "      <td>18.790000</td>\n",
       "      <td>will be getting almost  23 billion for border security  regardless of wall money  it is being built as we speak</td>\n",
       "    </tr>\n",
       "    <tr>\n",
       "      <th>1095470726436569088</th>\n",
       "      <td>2019-02-12 23:52:28</td>\n",
       "      <td>Twitter for iPhone</td>\n",
       "      <td>thank you to @msnbc! https://t.co/vdrniracaz</td>\n",
       "      <td>27393</td>\n",
       "      <td>2019.115068</td>\n",
       "      <td>2019-02-12 18:52:28-05:00</td>\n",
       "      <td>18.874444</td>\n",
       "      <td>thank you to  msnbc  https   t co vdrniracaz</td>\n",
       "    </tr>\n",
       "    <tr>\n",
       "      <th>1095514713763573761</th>\n",
       "      <td>2019-02-13 02:47:16</td>\n",
       "      <td>Twitter for iPhone</td>\n",
       "      <td>rt @planetepics: they are soooo beautiful and magnificent! ❤️❤️❤️❤️\\nhttps://t.co/isn5jo8ccd https://t.co/jcmpquziml</td>\n",
       "      <td>13120</td>\n",
       "      <td>2019.117808</td>\n",
       "      <td>2019-02-12 21:47:16-05:00</td>\n",
       "      <td>21.787778</td>\n",
       "      <td>rt  planetepics  they are soooo beautiful and magnificent          \\nhttps   t co isn5jo8ccd https   t co jcmpquziml</td>\n",
       "    </tr>\n",
       "    <tr>\n",
       "      <th>1095516270966042624</th>\n",
       "      <td>2019-02-13 02:53:27</td>\n",
       "      <td>Twitter for iPhone</td>\n",
       "      <td>rt @whitehouse: americans pay 180 percent of what europeans, canadians, and japanese pay for the exact same drugs!\\n\\nour seniors aren't goin…</td>\n",
       "      <td>15307</td>\n",
       "      <td>2019.117808</td>\n",
       "      <td>2019-02-12 21:53:27-05:00</td>\n",
       "      <td>21.890833</td>\n",
       "      <td>rt  whitehouse  americans pay 180 percent of what europeans  canadians  and japanese pay for the exact same drugs \\n\\nour seniors aren t goin</td>\n",
       "    </tr>\n",
       "    <tr>\n",
       "      <th>1095516452763914240</th>\n",
       "      <td>2019-02-13 02:54:10</td>\n",
       "      <td>Twitter for iPhone</td>\n",
       "      <td>rt @whitehouse: president trump's commitment to improving the quality of life for all americans has led to the largest single decline in dr…</td>\n",
       "      <td>16628</td>\n",
       "      <td>2019.117808</td>\n",
       "      <td>2019-02-12 21:54:10-05:00</td>\n",
       "      <td>21.902778</td>\n",
       "      <td>rt  whitehouse  president trump s commitment to improving the quality of life for all americans has led to the largest single decline in dr</td>\n",
       "    </tr>\n",
       "    <tr>\n",
       "      <th>1095523879689293825</th>\n",
       "      <td>2019-02-13 03:23:41</td>\n",
       "      <td>Twitter for iPhone</td>\n",
       "      <td>i want to thank all republicans for the work you have done in dealing with the radical left on border security. not an easy task, but the wall is being built and will be a great achievement and contributor toward life and safety within our country!</td>\n",
       "      <td>30585</td>\n",
       "      <td>2019.117808</td>\n",
       "      <td>2019-02-12 22:23:41-05:00</td>\n",
       "      <td>22.394722</td>\n",
       "      <td>i want to thank all republicans for the work you have done in dealing with the radical left on border security  not an easy task  but the wall is being built and will be a great achievement and contributor toward life and safety within our country</td>\n",
       "    </tr>\n",
       "    <tr>\n",
       "      <th>1095524396259831810</th>\n",
       "      <td>2019-02-13 03:25:44</td>\n",
       "      <td>Twitter for iPhone</td>\n",
       "      <td>rt @dbongino: i don’t feel an ounce of empathy for all of the imbeciles who bought into the russian collusion hoax now that it’s been entir…</td>\n",
       "      <td>32066</td>\n",
       "      <td>2019.117808</td>\n",
       "      <td>2019-02-12 22:25:44-05:00</td>\n",
       "      <td>22.428889</td>\n",
       "      <td>rt  dbongino  i don t feel an ounce of empathy for all of the imbeciles who bought into the russian collusion hoax now that it s been entir</td>\n",
       "    </tr>\n",
       "    <tr>\n",
       "      <th>1095638223861284865</th>\n",
       "      <td>2019-02-13 10:58:03</td>\n",
       "      <td>Twitter for iPhone</td>\n",
       "      <td>the senate intelligence committee: there is no evidence of collusion between the trump campaign and russia!</td>\n",
       "      <td>35856</td>\n",
       "      <td>2019.117808</td>\n",
       "      <td>2019-02-13 05:58:03-05:00</td>\n",
       "      <td>5.967500</td>\n",
       "      <td>the senate intelligence committee  there is no evidence of collusion between the trump campaign and russia</td>\n",
       "    </tr>\n",
       "    <tr>\n",
       "      <th>1095699493440446464</th>\n",
       "      <td>2019-02-13 15:01:31</td>\n",
       "      <td>Twitter for iPhone</td>\n",
       "      <td>the gallup poll just announced that 69% of our great citizens expect their finances to improve next year, a 16 year high. nice!</td>\n",
       "      <td>26512</td>\n",
       "      <td>2019.117808</td>\n",
       "      <td>2019-02-13 10:01:31-05:00</td>\n",
       "      <td>10.025278</td>\n",
       "      <td>the gallup poll just announced that 69  of our great citizens expect their finances to improve next year  a 16 year high  nice</td>\n",
       "    </tr>\n",
       "    <tr>\n",
       "      <th>1095787504001789960</th>\n",
       "      <td>2019-02-13 20:51:14</td>\n",
       "      <td>Twitter for iPhone</td>\n",
       "      <td>today, it was my great honor to address the @mjrcitieschiefs association and @mcsheriffs conference in washington, d.c. we will never forget your service, and we will never, ever let you down! we love you, and we thank god for you each and every day. https://t.co/9tuncvcbqe</td>\n",
       "      <td>16543</td>\n",
       "      <td>2019.117808</td>\n",
       "      <td>2019-02-13 15:51:14-05:00</td>\n",
       "      <td>15.853889</td>\n",
       "      <td>today  it was my great honor to address the  mjrcitieschiefs association and  mcsheriffs conference in washington  d c  we will never forget your service  and we will never  ever let you down  we love you  and we thank god for you each and every day  https   t co 9tuncvcbqe</td>\n",
       "    </tr>\n",
       "    <tr>\n",
       "      <th>1095817940920909824</th>\n",
       "      <td>2019-02-13 22:52:11</td>\n",
       "      <td>Twitter for iPhone</td>\n",
       "      <td>rt @whitehouse: \"every american in every community and from every walk of life has a right to live in security and to live in peace. that i…</td>\n",
       "      <td>18163</td>\n",
       "      <td>2019.117808</td>\n",
       "      <td>2019-02-13 17:52:11-05:00</td>\n",
       "      <td>17.869722</td>\n",
       "      <td>rt  whitehouse   every american in every community and from every walk of life has a right to live in security and to live in peace  that i</td>\n",
       "    </tr>\n",
       "    <tr>\n",
       "      <th>1095841187657891840</th>\n",
       "      <td>2019-02-14 00:24:33</td>\n",
       "      <td>Twitter for iPhone</td>\n",
       "      <td>https://t.co/rul7ctpdak</td>\n",
       "      <td>17651</td>\n",
       "      <td>2019.120548</td>\n",
       "      <td>2019-02-13 19:24:33-05:00</td>\n",
       "      <td>19.409167</td>\n",
       "      <td>https   t co rul7ctpdak</td>\n",
       "    </tr>\n",
       "    <tr>\n",
       "      <th>1095845385766092800</th>\n",
       "      <td>2019-02-14 00:41:14</td>\n",
       "      <td>Twitter for iPhone</td>\n",
       "      <td>https://t.co/bs162nf8hc</td>\n",
       "      <td>20685</td>\n",
       "      <td>2019.120548</td>\n",
       "      <td>2019-02-13 19:41:14-05:00</td>\n",
       "      <td>19.687222</td>\n",
       "      <td>https   t co bs162nf8hc</td>\n",
       "    </tr>\n",
       "    <tr>\n",
       "      <th>1095849007350460417</th>\n",
       "      <td>2019-02-14 00:55:37</td>\n",
       "      <td>Twitter for iPhone</td>\n",
       "      <td>rt @sentedcruz: report: texas crude oil production breaks 1970s record https://t.co/rhpamlx7g2 via @houstonchron</td>\n",
       "      <td>14326</td>\n",
       "      <td>2019.120548</td>\n",
       "      <td>2019-02-13 19:55:37-05:00</td>\n",
       "      <td>19.926944</td>\n",
       "      <td>rt  sentedcruz  report  texas crude oil production breaks 1970s record https   t co rhpamlx7g2 via  houstonchron</td>\n",
       "    </tr>\n",
       "    <tr>\n",
       "      <th>1095857587344551936</th>\n",
       "      <td>2019-02-14 01:29:43</td>\n",
       "      <td>Twitter for iPhone</td>\n",
       "      <td>california has been forced to cancel the massive bullet train project after having spent and wasted many billions of dollars. they owe the federal government three and a half billion dollars. we want that money back now. whole project is a “green” disaster!</td>\n",
       "      <td>51852</td>\n",
       "      <td>2019.120548</td>\n",
       "      <td>2019-02-13 20:29:43-05:00</td>\n",
       "      <td>20.495278</td>\n",
       "      <td>california has been forced to cancel the massive bullet train project after having spent and wasted many billions of dollars  they owe the federal government three and a half billion dollars  we want that money back now  whole project is a  green  disaster</td>\n",
       "    </tr>\n",
       "    <tr>\n",
       "      <th>1096056426533998594</th>\n",
       "      <td>2019-02-14 14:39:50</td>\n",
       "      <td>Twitter for iPhone</td>\n",
       "      <td>disgraced fbi acting director andrew mccabe pretends to be a “poor little angel” when in fact he was a big part of the crooked hillary scandal &amp;amp; the russia hoax - a puppet for leakin’ james comey. i.g. report on mccabe was devastating. part of “insurance policy” in case i...</td>\n",
       "      <td>34550</td>\n",
       "      <td>2019.120548</td>\n",
       "      <td>2019-02-14 09:39:50-05:00</td>\n",
       "      <td>9.663889</td>\n",
       "      <td>disgraced fbi acting director andrew mccabe pretends to be a  poor little angel  when in fact he was a big part of the crooked hillary scandal  amp  the russia hoax   a puppet for leakin  james comey  i g  report on mccabe was devastating  part of  insurance policy  in case i...</td>\n",
       "    </tr>\n",
       "    <tr>\n",
       "      <th>1096060280839307267</th>\n",
       "      <td>2019-02-14 14:55:09</td>\n",
       "      <td>Twitter for iPhone</td>\n",
       "      <td>....many of the top fbi brass were fired, forced to leave, or left. mccabe’s wife received big dollars from clinton people for her campaign - he gave hillary a pass. mccabe is a disgrace to the fbi and a disgrace to our country. make america great again!</td>\n",
       "      <td>37486</td>\n",
       "      <td>2019.120548</td>\n",
       "      <td>2019-02-14 09:55:09-05:00</td>\n",
       "      <td>9.919167</td>\n",
       "      <td>many of the top fbi brass were fired  forced to leave  or left  mccabe s wife received big dollars from clinton people for her campaign   he gave hillary a pass  mccabe is a disgrace to the fbi and a disgrace to our country  make america great again</td>\n",
       "    </tr>\n",
       "    <tr>\n",
       "      <th>1096098622423396353</th>\n",
       "      <td>2019-02-14 17:27:30</td>\n",
       "      <td>Twitter for iPhone</td>\n",
       "      <td>reviewing the funding bill with my team at the @whitehouse!</td>\n",
       "      <td>16231</td>\n",
       "      <td>2019.120548</td>\n",
       "      <td>2019-02-14 12:27:30-05:00</td>\n",
       "      <td>12.458333</td>\n",
       "      <td>reviewing the funding bill with my team at the  whitehouse</td>\n",
       "    </tr>\n",
       "    <tr>\n",
       "      <th>1096099414916169730</th>\n",
       "      <td>2019-02-14 17:30:39</td>\n",
       "      <td>Twitter for iPhone</td>\n",
       "      <td>one year ago today, a horrific act of violence took the lives of 14 students and 3 educators in parkland, florida. on this somber anniversary, we honor their memory and recommit to ensuring the safety of all americans, especially our nation’s children... https://t.co/mdnsx1bf...</td>\n",
       "      <td>15323</td>\n",
       "      <td>2019.120548</td>\n",
       "      <td>2019-02-14 12:30:39-05:00</td>\n",
       "      <td>12.510833</td>\n",
       "      <td>one year ago today  a horrific act of violence took the lives of 14 students and 3 educators in parkland  florida  on this somber anniversary  we honor their memory and recommit to ensuring the safety of all americans  especially our nation s children    https   t co mdnsx1bf...</td>\n",
       "    </tr>\n",
       "    <tr>\n",
       "      <th>1096242299561017345</th>\n",
       "      <td>2019-02-15 02:58:26</td>\n",
       "      <td>Twitter for iPhone</td>\n",
       "      <td>“after the flight 93 election, the vote that saved america - and what we still have to lose,” by very talented michael anton, is a terrific read. check it out!</td>\n",
       "      <td>13815</td>\n",
       "      <td>2019.123288</td>\n",
       "      <td>2019-02-14 21:58:26-05:00</td>\n",
       "      <td>21.973889</td>\n",
       "      <td>after the flight 93 election  the vote that saved america   and what we still have to lose   by very talented michael anton  is a terrific read  check it out</td>\n",
       "    </tr>\n",
       "    <tr>\n",
       "      <th>1096242493488803840</th>\n",
       "      <td>2019-02-15 02:59:12</td>\n",
       "      <td>Twitter for iPhone</td>\n",
       "      <td>rt @whitehouse: .@presssec: president trump will sign the government funding bill, and as he has stated before, he will also take other exe…</td>\n",
       "      <td>18061</td>\n",
       "      <td>2019.123288</td>\n",
       "      <td>2019-02-14 21:59:12-05:00</td>\n",
       "      <td>21.986667</td>\n",
       "      <td>rt  whitehouse    presssec  president trump will sign the government funding bill  and as he has stated before  he will also take other exe</td>\n",
       "    </tr>\n",
       "    <tr>\n",
       "      <th>1096246820097966080</th>\n",
       "      <td>2019-02-15 03:16:23</td>\n",
       "      <td>Twitter for iPhone</td>\n",
       "      <td>“trying to use the 25th amendment to try and circumvent the election is a despicable act of unconstitutional power grabbing...which happens in third world countries. you have to obey the law. this is an attack on our system &amp;amp; constitution.” alan dershowitz. @tuckercarlson</td>\n",
       "      <td>41145</td>\n",
       "      <td>2019.123288</td>\n",
       "      <td>2019-02-14 22:16:23-05:00</td>\n",
       "      <td>22.273056</td>\n",
       "      <td>trying to use the 25th amendment to try and circumvent the election is a despicable act of unconstitutional power grabbing   which happens in third world countries  you have to obey the law  this is an attack on our system  amp  constitution   alan dershowitz   tuckercarlson</td>\n",
       "    </tr>\n",
       "    <tr>\n",
       "      <th>1096433367757844489</th>\n",
       "      <td>2019-02-15 15:37:40</td>\n",
       "      <td>Twitter for iPhone</td>\n",
       "      <td>rt @whitehouse: president trump speaks on the national security &amp;amp; humanitarian crisis on our southern border https://t.co/fqdfforbv5</td>\n",
       "      <td>14754</td>\n",
       "      <td>2019.123288</td>\n",
       "      <td>2019-02-15 10:37:40-05:00</td>\n",
       "      <td>10.627778</td>\n",
       "      <td>rt  whitehouse  president trump speaks on the national security  amp  humanitarian crisis on our southern border https   t co fqdfforbv5</td>\n",
       "    </tr>\n",
       "    <tr>\n",
       "      <th>1096547516290543617</th>\n",
       "      <td>2019-02-15 23:11:15</td>\n",
       "      <td>Twitter for iPhone</td>\n",
       "      <td>great job by law enforcement in aurora, illinois. heartfelt condolences to all of the victims and their families. america is with you!</td>\n",
       "      <td>21296</td>\n",
       "      <td>2019.123288</td>\n",
       "      <td>2019-02-15 18:11:15-05:00</td>\n",
       "      <td>18.187500</td>\n",
       "      <td>great job by law enforcement in aurora  illinois  heartfelt condolences to all of the victims and their families  america is with you</td>\n",
       "    </tr>\n",
       "    <tr>\n",
       "      <th>1096812333333184512</th>\n",
       "      <td>2019-02-16 16:43:32</td>\n",
       "      <td>Twitter for iPhone</td>\n",
       "      <td>https://t.co/f6jd2fzayz</td>\n",
       "      <td>17134</td>\n",
       "      <td>2019.126027</td>\n",
       "      <td>2019-02-16 11:43:32-05:00</td>\n",
       "      <td>11.725556</td>\n",
       "      <td>https   t co f6jd2fzayz</td>\n",
       "    </tr>\n",
       "    <tr>\n",
       "      <th>1096856815810342912</th>\n",
       "      <td>2019-02-16 19:40:18</td>\n",
       "      <td>Twitter for iPhone</td>\n",
       "      <td>https://t.co/njorbjwint</td>\n",
       "      <td>29569</td>\n",
       "      <td>2019.126027</td>\n",
       "      <td>2019-02-16 14:40:18-05:00</td>\n",
       "      <td>14.671667</td>\n",
       "      <td>https   t co njorbjwint</td>\n",
       "    </tr>\n",
       "    <tr>\n",
       "      <th>1096924708132581377</th>\n",
       "      <td>2019-02-17 00:10:04</td>\n",
       "      <td>Twitter for iPhone</td>\n",
       "      <td>building the wall!</td>\n",
       "      <td>21811</td>\n",
       "      <td>2019.128767</td>\n",
       "      <td>2019-02-16 19:10:04-05:00</td>\n",
       "      <td>19.167778</td>\n",
       "      <td>building the wall</td>\n",
       "    </tr>\n",
       "    <tr>\n",
       "      <th>1096926633708134406</th>\n",
       "      <td>2019-02-17 00:17:44</td>\n",
       "      <td>Twitter for iPhone</td>\n",
       "      <td>trade negotiators have just returned from china where the meetings on trade were very productive. now at meetings with me at mar-a-lago giving the details. in the meantime, billions of dollars are being paid to the united states by china in the form of trade tariffs!</td>\n",
       "      <td>8325</td>\n",
       "      <td>2019.128767</td>\n",
       "      <td>2019-02-16 19:17:44-05:00</td>\n",
       "      <td>19.295556</td>\n",
       "      <td>trade negotiators have just returned from china where the meetings on trade were very productive  now at meetings with me at mar a lago giving the details  in the meantime  billions of dollars are being paid to the united states by china in the form of trade tariffs</td>\n",
       "    </tr>\n",
       "  </tbody>\n",
       "</table>\n",
       "<p>10370 rows × 8 columns</p>\n",
       "</div>"
      ],
      "text/plain": [
       "                                   time               source  \\\n",
       "ID                                                             \n",
       "690171032150237184  2016-01-21 13:56:11  Twitter for Android   \n",
       "690171403388104704  2016-01-21 13:57:39  Twitter for Android   \n",
       "690173226341691392  2016-01-21 14:04:54  Twitter for Android   \n",
       "690176882055114758  2016-01-21 14:19:26  Twitter for Android   \n",
       "690180284189310976  2016-01-21 14:32:57  Twitter for Android   \n",
       "690271688127213568  2016-01-21 20:36:09   Twitter for iPhone   \n",
       "690272687168458754  2016-01-21 20:40:07  Twitter for Android   \n",
       "690313350278819840  2016-01-21 23:21:42   Twitter for iPhone   \n",
       "690315202261155840  2016-01-21 23:29:04   Twitter for iPhone   \n",
       "690315366564626433  2016-01-21 23:29:43   Twitter for iPhone   \n",
       "690315667636023296  2016-01-21 23:30:55   Twitter for iPhone   \n",
       "690336644281581568  2016-01-22 00:54:16   Twitter for iPhone   \n",
       "690337376061788161  2016-01-22 00:57:10   Twitter for iPhone   \n",
       "690382564494839809  2016-01-22 03:56:44   Twitter for iPhone   \n",
       "690382619213742082  2016-01-22 03:56:57   Twitter for iPhone   \n",
       "690382722162913280  2016-01-22 03:57:22   Twitter for iPhone   \n",
       "690404308010057728  2016-01-22 05:23:08   Twitter for iPhone   \n",
       "690528062190944256  2016-01-22 13:34:54  Twitter for Android   \n",
       "690528407117889538  2016-01-22 13:36:16  Twitter for Android   \n",
       "690528526181601281  2016-01-22 13:36:44  Twitter for Android   \n",
       "690529122326413314  2016-01-22 13:39:06  Twitter for Android   \n",
       "690529690205818880  2016-01-22 13:41:22  Twitter for Android   \n",
       "690530164711624705  2016-01-22 13:43:15  Twitter for Android   \n",
       "690532959363866625  2016-01-22 13:54:21  Twitter for Android   \n",
       "690534215478173697  2016-01-22 13:59:21  Twitter for Android   \n",
       "690534576066719744  2016-01-22 14:00:47  Twitter for Android   \n",
       "690537121916923904  2016-01-22 14:10:54  Twitter for Android   \n",
       "690540484154896384  2016-01-22 14:24:15  Twitter for Android   \n",
       "690560125916975104  2016-01-22 15:42:18  Twitter for Android   \n",
       "690560942430523392  2016-01-22 15:45:33  Twitter for Android   \n",
       "...                                 ...                  ...   \n",
       "1095360852482498561 2019-02-12 16:35:52   Twitter for iPhone   \n",
       "1095469447933059073 2019-02-12 23:47:23   Twitter for iPhone   \n",
       "1095469449052868610 2019-02-12 23:47:24   Twitter for iPhone   \n",
       "1095470726436569088 2019-02-12 23:52:28   Twitter for iPhone   \n",
       "1095514713763573761 2019-02-13 02:47:16   Twitter for iPhone   \n",
       "1095516270966042624 2019-02-13 02:53:27   Twitter for iPhone   \n",
       "1095516452763914240 2019-02-13 02:54:10   Twitter for iPhone   \n",
       "1095523879689293825 2019-02-13 03:23:41   Twitter for iPhone   \n",
       "1095524396259831810 2019-02-13 03:25:44   Twitter for iPhone   \n",
       "1095638223861284865 2019-02-13 10:58:03   Twitter for iPhone   \n",
       "1095699493440446464 2019-02-13 15:01:31   Twitter for iPhone   \n",
       "1095787504001789960 2019-02-13 20:51:14   Twitter for iPhone   \n",
       "1095817940920909824 2019-02-13 22:52:11   Twitter for iPhone   \n",
       "1095841187657891840 2019-02-14 00:24:33   Twitter for iPhone   \n",
       "1095845385766092800 2019-02-14 00:41:14   Twitter for iPhone   \n",
       "1095849007350460417 2019-02-14 00:55:37   Twitter for iPhone   \n",
       "1095857587344551936 2019-02-14 01:29:43   Twitter for iPhone   \n",
       "1096056426533998594 2019-02-14 14:39:50   Twitter for iPhone   \n",
       "1096060280839307267 2019-02-14 14:55:09   Twitter for iPhone   \n",
       "1096098622423396353 2019-02-14 17:27:30   Twitter for iPhone   \n",
       "1096099414916169730 2019-02-14 17:30:39   Twitter for iPhone   \n",
       "1096242299561017345 2019-02-15 02:58:26   Twitter for iPhone   \n",
       "1096242493488803840 2019-02-15 02:59:12   Twitter for iPhone   \n",
       "1096246820097966080 2019-02-15 03:16:23   Twitter for iPhone   \n",
       "1096433367757844489 2019-02-15 15:37:40   Twitter for iPhone   \n",
       "1096547516290543617 2019-02-15 23:11:15   Twitter for iPhone   \n",
       "1096812333333184512 2019-02-16 16:43:32   Twitter for iPhone   \n",
       "1096856815810342912 2019-02-16 19:40:18   Twitter for iPhone   \n",
       "1096924708132581377 2019-02-17 00:10:04   Twitter for iPhone   \n",
       "1096926633708134406 2019-02-17 00:17:44   Twitter for iPhone   \n",
       "\n",
       "                                                                                                                                                                                                                                                                                                        text  \\\n",
       "ID                                                                                                                                                                                                                                                                                                             \n",
       "690171032150237184                                                                                                                                                                                                                       \"@bigop1: @realdonaldtrump  @sarahpalinusa https://t.co/3kyqgqevyd\"   \n",
       "690171403388104704                                                                                                                                                         \"@americanaspie:  @glennbeck @sarahpalinusa remember when glenn gave out gifts to illegal aliens at crossing the border? me too!\"   \n",
       "690173226341691392                                                                                                                                                               so sad that @cnn and many others refused to show the massive crowd at the arena yesterday in oklahoma. dishonest reporting!   \n",
       "690176882055114758                                                                                                                                                sad sack @jebbush has just done another ad on me, with special interest money, saying i won't beat hillary - i will. but he can't beat me.   \n",
       "690180284189310976                                                                                                                                              low energy candidate @jebbush has wasted $80 million on his failed presidential campaign. millions spent on me. he should go home and relax!   \n",
       "690271688127213568                                                                                                                                                                                           new day on cnn treats me very badly. @alisyncamerota is a disaster. not going to watch anymore.   \n",
       "690272687168458754                                                                                                                                                                                                             happy birthday to my friend, the great @jacknicklaus - a totally special guy!   \n",
       "690313350278819840                                                                                                                                                                                                                                       thank you, iowa! #trump2016 https://t.co/ryhehetlqn   \n",
       "690315202261155840                                                                                                                                                                                                                                             thank you! #trump2016 https://t.co/pcdmyio1zt   \n",
       "690315366564626433                                                                                                                                                                                                                             thank you, new hampshire!\\n#trump2016 https://t.co/tg9ozkly4l   \n",
       "690315667636023296                                                                                                                                                                                                                                 #trump2016 #makeamericagreatagain https://t.co/vfuwgigjn4   \n",
       "690336644281581568                                                                                                                                              why does @greta have a fired bushy like dummy, john sununu on- spewing false info? i will beat hillary by a lot, she wants no part of trump.   \n",
       "690337376061788161                                                                                                                                                                                               thank you, iowa! #fitn #iacaucus\\n#makeamericagreatagain #trump2016 https://t.co/wvjldvtsag   \n",
       "690382564494839809                                                                                                                                              national review is a failing publication that has lost it's way. it's circulation is way down w its influence being at an all time low. sad!   \n",
       "690382619213742082                                                                                                                                                                                     very few people read the national review because it only knows how to criticize, but not how to lead.   \n",
       "690382722162913280                                                                                                                                                                        the late, great, william f. buckley would be ashamed of what had happened to his prize, the dying national review!   \n",
       "690404308010057728                                                                                                                                                                                                           rt @williebosshog: make america great again! #trump2016 https://t.co/1h5j4dzdgy   \n",
       "690528062190944256                                                                                                                                                ted cruz complains about my views on eminent domain, but without it we wouldn't have roads, highways, airports, schools or even pipelines.   \n",
       "690528407117889538                                                                                                                                                     \"@realollietaylor:  isn't it time we had a president? let goofy glen keep canada cruz who can't win. the american people have trump!\"   \n",
       "690528526181601281                                                                                                                                                                                                                            \"@borntobegop: @realdonaldtrump no sleep for the #trumptrain!\"   \n",
       "690529122326413314                                                                                                                                                                         \"@neilturner_: @realdonaldtrump https://t.co/uvn95nb6m0 with your help we can #makeamericagreatagain! #votetrump\"   \n",
       "690529690205818880                                                                                                                                                    #tedcruz eligibility to be president not settled law, says cruz' constitutional law professor, #laurencetribe https://t.co/gwkojsbinz\"   \n",
       "690530164711624705                                                                                                                                                 \"@trublumajority: #laurencetribe calls cruz \"constitutional hypocrite\" on @wbur https://t.co/qrfintcjlx @pbsgwen @charlierose @jaketapper   \n",
       "690532959363866625                                                                                                                                              highly respected constitutional law professor mary brigid mcmanamon has just stated, \"ted cruz is not eligible to be president.\" big problem   \n",
       "690534215478173697                                                                                                                                               \"@d: #marybrigidmcmanamon, washington post: constitutionally speaking, #cruz simply isn’t eligible to be president https://t.co/dbttgsc1il\"   \n",
       "690534576066719744                                                                                                                                                \"@cyberciety: #marybrigidmcmanamon clarified how #commonlaw is used to interpret meaning of #naturalborn #tedcruz https://t.co/5y6szrtdgr\"   \n",
       "690537121916923904                                                                                                                                                   \"@miaminewtimes: poll: trump has more support in florida than rubio and bush combined. https://t.co/uvh2bkqrhf https://t.co/2tviaa2afr\"   \n",
       "690540484154896384                                                                                                                                              the failing @nro national review magazine has just been informed by the republican national committee that they cannot participate in debate   \n",
       "690560125916975104                                                                                                                                                after spending $89 million, @jebbush is at the bottom of the barrel in polls. he is ashamed to use the name \"bush\" in ads. low energy guy!   \n",
       "690560942430523392                                                                                                                                              \"@lisa_milicaj: truth be told, i  never heard of the national review until they \"tried\" to declare war on you. no worries, you got my vote!\"   \n",
       "...                                                                                                                                                                                                                                                                                                      ...   \n",
       "1095360852482498561                                                                                                                                                                                               beautiful evening in el paso, texas last night. god bless the usa! https://t.co/trqa75kxln   \n",
       "1095469447933059073                                                                 was just presented the concept and parameters of the border security deal by hard working senator richard shelby. looking over all aspects knowing that this will be hooked up with lots of money from other sources....   \n",
       "1095469449052868610                                                                                                                                                                     ....will be getting almost $23 billion for border security. regardless of wall money, it is being built as we speak!   \n",
       "1095470726436569088                                                                                                                                                                                                                                             thank you to @msnbc! https://t.co/vdrniracaz   \n",
       "1095514713763573761                                                                                                                                                                     rt @planetepics: they are soooo beautiful and magnificent! ❤️❤️❤️❤️\\nhttps://t.co/isn5jo8ccd https://t.co/jcmpquziml   \n",
       "1095516270966042624                                                                                                                                           rt @whitehouse: americans pay 180 percent of what europeans, canadians, and japanese pay for the exact same drugs!\\n\\nour seniors aren't goin…   \n",
       "1095516452763914240                                                                                                                                             rt @whitehouse: president trump's commitment to improving the quality of life for all americans has led to the largest single decline in dr…   \n",
       "1095523879689293825                                 i want to thank all republicans for the work you have done in dealing with the radical left on border security. not an easy task, but the wall is being built and will be a great achievement and contributor toward life and safety within our country!   \n",
       "1095524396259831810                                                                                                                                             rt @dbongino: i don’t feel an ounce of empathy for all of the imbeciles who bought into the russian collusion hoax now that it’s been entir…   \n",
       "1095638223861284865                                                                                                                                                                              the senate intelligence committee: there is no evidence of collusion between the trump campaign and russia!   \n",
       "1095699493440446464                                                                                                                                                          the gallup poll just announced that 69% of our great citizens expect their finances to improve next year, a 16 year high. nice!   \n",
       "1095787504001789960       today, it was my great honor to address the @mjrcitieschiefs association and @mcsheriffs conference in washington, d.c. we will never forget your service, and we will never, ever let you down! we love you, and we thank god for you each and every day. https://t.co/9tuncvcbqe   \n",
       "1095817940920909824                                                                                                                                             rt @whitehouse: \"every american in every community and from every walk of life has a right to live in security and to live in peace. that i…   \n",
       "1095841187657891840                                                                                                                                                                                                                                                                  https://t.co/rul7ctpdak   \n",
       "1095845385766092800                                                                                                                                                                                                                                                                  https://t.co/bs162nf8hc   \n",
       "1095849007350460417                                                                                                                                                                         rt @sentedcruz: report: texas crude oil production breaks 1970s record https://t.co/rhpamlx7g2 via @houstonchron   \n",
       "1095857587344551936                        california has been forced to cancel the massive bullet train project after having spent and wasted many billions of dollars. they owe the federal government three and a half billion dollars. we want that money back now. whole project is a “green” disaster!   \n",
       "1096056426533998594  disgraced fbi acting director andrew mccabe pretends to be a “poor little angel” when in fact he was a big part of the crooked hillary scandal &amp; the russia hoax - a puppet for leakin’ james comey. i.g. report on mccabe was devastating. part of “insurance policy” in case i...   \n",
       "1096060280839307267                           ....many of the top fbi brass were fired, forced to leave, or left. mccabe’s wife received big dollars from clinton people for her campaign - he gave hillary a pass. mccabe is a disgrace to the fbi and a disgrace to our country. make america great again!   \n",
       "1096098622423396353                                                                                                                                                                                                                              reviewing the funding bill with my team at the @whitehouse!   \n",
       "1096099414916169730  one year ago today, a horrific act of violence took the lives of 14 students and 3 educators in parkland, florida. on this somber anniversary, we honor their memory and recommit to ensuring the safety of all americans, especially our nation’s children... https://t.co/mdnsx1bf...   \n",
       "1096242299561017345                                                                                                                          “after the flight 93 election, the vote that saved america - and what we still have to lose,” by very talented michael anton, is a terrific read. check it out!   \n",
       "1096242493488803840                                                                                                                                             rt @whitehouse: .@presssec: president trump will sign the government funding bill, and as he has stated before, he will also take other exe…   \n",
       "1096246820097966080     “trying to use the 25th amendment to try and circumvent the election is a despicable act of unconstitutional power grabbing...which happens in third world countries. you have to obey the law. this is an attack on our system &amp; constitution.” alan dershowitz. @tuckercarlson   \n",
       "1096433367757844489                                                                                                                                                 rt @whitehouse: president trump speaks on the national security &amp; humanitarian crisis on our southern border https://t.co/fqdfforbv5   \n",
       "1096547516290543617                                                                                                                                                   great job by law enforcement in aurora, illinois. heartfelt condolences to all of the victims and their families. america is with you!   \n",
       "1096812333333184512                                                                                                                                                                                                                                                                  https://t.co/f6jd2fzayz   \n",
       "1096856815810342912                                                                                                                                                                                                                                                                  https://t.co/njorbjwint   \n",
       "1096924708132581377                                                                                                                                                                                                                                                                       building the wall!   \n",
       "1096926633708134406              trade negotiators have just returned from china where the meetings on trade were very productive. now at meetings with me at mar-a-lago giving the details. in the meantime, billions of dollars are being paid to the united states by china in the form of trade tariffs!   \n",
       "\n",
       "                     retweet_count         year                  est_time  \\\n",
       "ID                                                                          \n",
       "690171032150237184            1059  2016.054645 2016-01-21 08:56:11-05:00   \n",
       "690171403388104704            1339  2016.054645 2016-01-21 08:57:39-05:00   \n",
       "690173226341691392            2006  2016.054645 2016-01-21 09:04:54-05:00   \n",
       "690176882055114758            2266  2016.054645 2016-01-21 09:19:26-05:00   \n",
       "690180284189310976            2886  2016.054645 2016-01-21 09:32:57-05:00   \n",
       "690271688127213568            1429  2016.054645 2016-01-21 15:36:09-05:00   \n",
       "690272687168458754            1053  2016.054645 2016-01-21 15:40:07-05:00   \n",
       "690313350278819840            2329  2016.054645 2016-01-21 18:21:42-05:00   \n",
       "690315202261155840            1463  2016.054645 2016-01-21 18:29:04-05:00   \n",
       "690315366564626433            1761  2016.054645 2016-01-21 18:29:43-05:00   \n",
       "690315667636023296            2217  2016.054645 2016-01-21 18:30:55-05:00   \n",
       "690336644281581568            1576  2016.057377 2016-01-21 19:54:16-05:00   \n",
       "690337376061788161            2422  2016.057377 2016-01-21 19:57:10-05:00   \n",
       "690382564494839809            2187  2016.057377 2016-01-21 22:56:44-05:00   \n",
       "690382619213742082            1817  2016.057377 2016-01-21 22:56:57-05:00   \n",
       "690382722162913280            2236  2016.057377 2016-01-21 22:57:22-05:00   \n",
       "690404308010057728            9144  2016.057377 2016-01-22 00:23:08-05:00   \n",
       "690528062190944256            1595  2016.057377 2016-01-22 08:34:54-05:00   \n",
       "690528407117889538             909  2016.057377 2016-01-22 08:36:16-05:00   \n",
       "690528526181601281             676  2016.057377 2016-01-22 08:36:44-05:00   \n",
       "690529122326413314             773  2016.057377 2016-01-22 08:39:06-05:00   \n",
       "690529690205818880             753  2016.057377 2016-01-22 08:41:22-05:00   \n",
       "690530164711624705             637  2016.057377 2016-01-22 08:43:15-05:00   \n",
       "690532959363866625            1937  2016.057377 2016-01-22 08:54:21-05:00   \n",
       "690534215478173697             875  2016.057377 2016-01-22 08:59:21-05:00   \n",
       "690534576066719744             799  2016.057377 2016-01-22 09:00:47-05:00   \n",
       "690537121916923904            1738  2016.057377 2016-01-22 09:10:54-05:00   \n",
       "690540484154896384            2116  2016.057377 2016-01-22 09:24:15-05:00   \n",
       "690560125916975104            1661  2016.057377 2016-01-22 10:42:18-05:00   \n",
       "690560942430523392            1110  2016.057377 2016-01-22 10:45:33-05:00   \n",
       "...                            ...          ...                       ...   \n",
       "1095360852482498561          23660  2019.115068 2019-02-12 11:35:52-05:00   \n",
       "1095469447933059073          19412  2019.115068 2019-02-12 18:47:23-05:00   \n",
       "1095469449052868610          25088  2019.115068 2019-02-12 18:47:24-05:00   \n",
       "1095470726436569088          27393  2019.115068 2019-02-12 18:52:28-05:00   \n",
       "1095514713763573761          13120  2019.117808 2019-02-12 21:47:16-05:00   \n",
       "1095516270966042624          15307  2019.117808 2019-02-12 21:53:27-05:00   \n",
       "1095516452763914240          16628  2019.117808 2019-02-12 21:54:10-05:00   \n",
       "1095523879689293825          30585  2019.117808 2019-02-12 22:23:41-05:00   \n",
       "1095524396259831810          32066  2019.117808 2019-02-12 22:25:44-05:00   \n",
       "1095638223861284865          35856  2019.117808 2019-02-13 05:58:03-05:00   \n",
       "1095699493440446464          26512  2019.117808 2019-02-13 10:01:31-05:00   \n",
       "1095787504001789960          16543  2019.117808 2019-02-13 15:51:14-05:00   \n",
       "1095817940920909824          18163  2019.117808 2019-02-13 17:52:11-05:00   \n",
       "1095841187657891840          17651  2019.120548 2019-02-13 19:24:33-05:00   \n",
       "1095845385766092800          20685  2019.120548 2019-02-13 19:41:14-05:00   \n",
       "1095849007350460417          14326  2019.120548 2019-02-13 19:55:37-05:00   \n",
       "1095857587344551936          51852  2019.120548 2019-02-13 20:29:43-05:00   \n",
       "1096056426533998594          34550  2019.120548 2019-02-14 09:39:50-05:00   \n",
       "1096060280839307267          37486  2019.120548 2019-02-14 09:55:09-05:00   \n",
       "1096098622423396353          16231  2019.120548 2019-02-14 12:27:30-05:00   \n",
       "1096099414916169730          15323  2019.120548 2019-02-14 12:30:39-05:00   \n",
       "1096242299561017345          13815  2019.123288 2019-02-14 21:58:26-05:00   \n",
       "1096242493488803840          18061  2019.123288 2019-02-14 21:59:12-05:00   \n",
       "1096246820097966080          41145  2019.123288 2019-02-14 22:16:23-05:00   \n",
       "1096433367757844489          14754  2019.123288 2019-02-15 10:37:40-05:00   \n",
       "1096547516290543617          21296  2019.123288 2019-02-15 18:11:15-05:00   \n",
       "1096812333333184512          17134  2019.126027 2019-02-16 11:43:32-05:00   \n",
       "1096856815810342912          29569  2019.126027 2019-02-16 14:40:18-05:00   \n",
       "1096924708132581377          21811  2019.128767 2019-02-16 19:10:04-05:00   \n",
       "1096926633708134406           8325  2019.128767 2019-02-16 19:17:44-05:00   \n",
       "\n",
       "                          hour  \\\n",
       "ID                               \n",
       "690171032150237184    8.936389   \n",
       "690171403388104704    8.960833   \n",
       "690173226341691392    9.081667   \n",
       "690176882055114758    9.323889   \n",
       "690180284189310976    9.549167   \n",
       "690271688127213568   15.602500   \n",
       "690272687168458754   15.668611   \n",
       "690313350278819840   18.361667   \n",
       "690315202261155840   18.484444   \n",
       "690315366564626433   18.495278   \n",
       "690315667636023296   18.515278   \n",
       "690336644281581568   19.904444   \n",
       "690337376061788161   19.952778   \n",
       "690382564494839809   22.945556   \n",
       "690382619213742082   22.949167   \n",
       "690382722162913280   22.956111   \n",
       "690404308010057728    0.385556   \n",
       "690528062190944256    8.581667   \n",
       "690528407117889538    8.604444   \n",
       "690528526181601281    8.612222   \n",
       "690529122326413314    8.651667   \n",
       "690529690205818880    8.689444   \n",
       "690530164711624705    8.720833   \n",
       "690532959363866625    8.905833   \n",
       "690534215478173697    8.989167   \n",
       "690534576066719744    9.013056   \n",
       "690537121916923904    9.181667   \n",
       "690540484154896384    9.404167   \n",
       "690560125916975104   10.705000   \n",
       "690560942430523392   10.759167   \n",
       "...                        ...   \n",
       "1095360852482498561  11.597778   \n",
       "1095469447933059073  18.789722   \n",
       "1095469449052868610  18.790000   \n",
       "1095470726436569088  18.874444   \n",
       "1095514713763573761  21.787778   \n",
       "1095516270966042624  21.890833   \n",
       "1095516452763914240  21.902778   \n",
       "1095523879689293825  22.394722   \n",
       "1095524396259831810  22.428889   \n",
       "1095638223861284865   5.967500   \n",
       "1095699493440446464  10.025278   \n",
       "1095787504001789960  15.853889   \n",
       "1095817940920909824  17.869722   \n",
       "1095841187657891840  19.409167   \n",
       "1095845385766092800  19.687222   \n",
       "1095849007350460417  19.926944   \n",
       "1095857587344551936  20.495278   \n",
       "1096056426533998594   9.663889   \n",
       "1096060280839307267   9.919167   \n",
       "1096098622423396353  12.458333   \n",
       "1096099414916169730  12.510833   \n",
       "1096242299561017345  21.973889   \n",
       "1096242493488803840  21.986667   \n",
       "1096246820097966080  22.273056   \n",
       "1096433367757844489  10.627778   \n",
       "1096547516290543617  18.187500   \n",
       "1096812333333184512  11.725556   \n",
       "1096856815810342912  14.671667   \n",
       "1096924708132581377  19.167778   \n",
       "1096926633708134406  19.295556   \n",
       "\n",
       "                                                                                                                                                                                                                                                                                                     no_punc  \n",
       "ID                                                                                                                                                                                                                                                                                                            \n",
       "690171032150237184                                                                                                                                                                                                                         bigop1   realdonaldtrump   sarahpalinusa https   t co 3kyqgqevyd   \n",
       "690171403388104704                                                                                                                                                           americanaspie    glennbeck  sarahpalinusa remember when glenn gave out gifts to illegal aliens at crossing the border  me too    \n",
       "690173226341691392                                                                                                                                                               so sad that  cnn and many others refused to show the massive crowd at the arena yesterday in oklahoma  dishonest reporting   \n",
       "690176882055114758                                                                                                                                                sad sack  jebbush has just done another ad on me  with special interest money  saying i won t beat hillary   i will  but he can t beat me   \n",
       "690180284189310976                                                                                                                                              low energy candidate  jebbush has wasted  80 million on his failed presidential campaign  millions spent on me  he should go home and relax   \n",
       "690271688127213568                                                                                                                                                                                           new day on cnn treats me very badly   alisyncamerota is a disaster  not going to watch anymore   \n",
       "690272687168458754                                                                                                                                                                                                             happy birthday to my friend  the great  jacknicklaus   a totally special guy   \n",
       "690313350278819840                                                                                                                                                                                                                                       thank you  iowa   trump2016 https   t co ryhehetlqn  \n",
       "690315202261155840                                                                                                                                                                                                                                             thank you   trump2016 https   t co pcdmyio1zt  \n",
       "690315366564626433                                                                                                                                                                                                                             thank you  new hampshire \\n trump2016 https   t co tg9ozkly4l  \n",
       "690315667636023296                                                                                                                                                                                                                                  trump2016  makeamericagreatagain https   t co vfuwgigjn4  \n",
       "690336644281581568                                                                                                                                              why does  greta have a fired bushy like dummy  john sununu on  spewing false info  i will beat hillary by a lot  she wants no part of trump   \n",
       "690337376061788161                                                                                                                                                                                               thank you  iowa   fitn  iacaucus\\n makeamericagreatagain  trump2016 https   t co wvjldvtsag  \n",
       "690382564494839809                                                                                                                                              national review is a failing publication that has lost it s way  it s circulation is way down w its influence being at an all time low  sad   \n",
       "690382619213742082                                                                                                                                                                                     very few people read the national review because it only knows how to criticize  but not how to lead   \n",
       "690382722162913280                                                                                                                                                                        the late  great  william f  buckley would be ashamed of what had happened to his prize  the dying national review   \n",
       "690404308010057728                                                                                                                                                                                                           rt  williebosshog  make america great again   trump2016 https   t co 1h5j4dzdgy  \n",
       "690528062190944256                                                                                                                                                ted cruz complains about my views on eminent domain  but without it we wouldn t have roads  highways  airports  schools or even pipelines   \n",
       "690528407117889538                                                                                                                                                       realollietaylor   isn t it time we had a president  let goofy glen keep canada cruz who can t win  the american people have trump    \n",
       "690528526181601281                                                                                                                                                                                                                              borntobegop   realdonaldtrump no sleep for the  trumptrain    \n",
       "690529122326413314                                                                                                                                                                           neilturner_   realdonaldtrump https   t co uvn95nb6m0 with your help we can  makeamericagreatagain   votetrump   \n",
       "690529690205818880                                                                                                                                                     tedcruz eligibility to be president not settled law  says cruz  constitutional law professor   laurencetribe https   t co gwkojsbinz   \n",
       "690530164711624705                                                                                                                                                   trublumajority   laurencetribe calls cruz  constitutional hypocrite  on  wbur https   t co qrfintcjlx  pbsgwen  charlierose  jaketapper  \n",
       "690532959363866625                                                                                                                                              highly respected constitutional law professor mary brigid mcmanamon has just stated   ted cruz is not eligible to be president   big problem  \n",
       "690534215478173697                                                                                                                                                 d   marybrigidmcmanamon  washington post  constitutionally speaking   cruz simply isn t eligible to be president https   t co dbttgsc1il   \n",
       "690534576066719744                                                                                                                                                  cyberciety   marybrigidmcmanamon clarified how  commonlaw is used to interpret meaning of  naturalborn  tedcruz https   t co 5y6szrtdgr   \n",
       "690537121916923904                                                                                                                                                     miaminewtimes  poll  trump has more support in florida than rubio and bush combined  https   t co uvh2bkqrhf https   t co 2tviaa2afr   \n",
       "690540484154896384                                                                                                                                              the failing  nro national review magazine has just been informed by the republican national committee that they cannot participate in debate  \n",
       "690560125916975104                                                                                                                                                after spending  89 million   jebbush is at the bottom of the barrel in polls  he is ashamed to use the name  bush  in ads  low energy guy   \n",
       "690560942430523392                                                                                                                                                lisa_milicaj  truth be told  i  never heard of the national review until they  tried  to declare war on you  no worries  you got my vote    \n",
       "...                                                                                                                                                                                                                                                                                                      ...  \n",
       "1095360852482498561                                                                                                                                                                                               beautiful evening in el paso  texas last night  god bless the usa  https   t co trqa75kxln  \n",
       "1095469447933059073                                                                 was just presented the concept and parameters of the border security deal by hard working senator richard shelby  looking over all aspects knowing that this will be hooked up with lots of money from other sources      \n",
       "1095469449052868610                                                                                                                                                                         will be getting almost  23 billion for border security  regardless of wall money  it is being built as we speak   \n",
       "1095470726436569088                                                                                                                                                                                                                                             thank you to  msnbc  https   t co vdrniracaz  \n",
       "1095514713763573761                                                                                                                                                                     rt  planetepics  they are soooo beautiful and magnificent          \\nhttps   t co isn5jo8ccd https   t co jcmpquziml  \n",
       "1095516270966042624                                                                                                                                           rt  whitehouse  americans pay 180 percent of what europeans  canadians  and japanese pay for the exact same drugs \\n\\nour seniors aren t goin   \n",
       "1095516452763914240                                                                                                                                             rt  whitehouse  president trump s commitment to improving the quality of life for all americans has led to the largest single decline in dr   \n",
       "1095523879689293825                                 i want to thank all republicans for the work you have done in dealing with the radical left on border security  not an easy task  but the wall is being built and will be a great achievement and contributor toward life and safety within our country   \n",
       "1095524396259831810                                                                                                                                             rt  dbongino  i don t feel an ounce of empathy for all of the imbeciles who bought into the russian collusion hoax now that it s been entir   \n",
       "1095638223861284865                                                                                                                                                                              the senate intelligence committee  there is no evidence of collusion between the trump campaign and russia   \n",
       "1095699493440446464                                                                                                                                                          the gallup poll just announced that 69  of our great citizens expect their finances to improve next year  a 16 year high  nice   \n",
       "1095787504001789960       today  it was my great honor to address the  mjrcitieschiefs association and  mcsheriffs conference in washington  d c  we will never forget your service  and we will never  ever let you down  we love you  and we thank god for you each and every day  https   t co 9tuncvcbqe  \n",
       "1095817940920909824                                                                                                                                             rt  whitehouse   every american in every community and from every walk of life has a right to live in security and to live in peace  that i   \n",
       "1095841187657891840                                                                                                                                                                                                                                                                  https   t co rul7ctpdak  \n",
       "1095845385766092800                                                                                                                                                                                                                                                                  https   t co bs162nf8hc  \n",
       "1095849007350460417                                                                                                                                                                         rt  sentedcruz  report  texas crude oil production breaks 1970s record https   t co rhpamlx7g2 via  houstonchron  \n",
       "1095857587344551936                        california has been forced to cancel the massive bullet train project after having spent and wasted many billions of dollars  they owe the federal government three and a half billion dollars  we want that money back now  whole project is a  green  disaster   \n",
       "1096056426533998594  disgraced fbi acting director andrew mccabe pretends to be a  poor little angel  when in fact he was a big part of the crooked hillary scandal  amp  the russia hoax   a puppet for leakin  james comey  i g  report on mccabe was devastating  part of  insurance policy  in case i...  \n",
       "1096060280839307267                               many of the top fbi brass were fired  forced to leave  or left  mccabe s wife received big dollars from clinton people for her campaign   he gave hillary a pass  mccabe is a disgrace to the fbi and a disgrace to our country  make america great again   \n",
       "1096098622423396353                                                                                                                                                                                                                              reviewing the funding bill with my team at the  whitehouse   \n",
       "1096099414916169730  one year ago today  a horrific act of violence took the lives of 14 students and 3 educators in parkland  florida  on this somber anniversary  we honor their memory and recommit to ensuring the safety of all americans  especially our nation s children    https   t co mdnsx1bf...  \n",
       "1096242299561017345                                                                                                                           after the flight 93 election  the vote that saved america   and what we still have to lose   by very talented michael anton  is a terrific read  check it out   \n",
       "1096242493488803840                                                                                                                                             rt  whitehouse    presssec  president trump will sign the government funding bill  and as he has stated before  he will also take other exe   \n",
       "1096246820097966080      trying to use the 25th amendment to try and circumvent the election is a despicable act of unconstitutional power grabbing   which happens in third world countries  you have to obey the law  this is an attack on our system  amp  constitution   alan dershowitz   tuckercarlson  \n",
       "1096433367757844489                                                                                                                                                 rt  whitehouse  president trump speaks on the national security  amp  humanitarian crisis on our southern border https   t co fqdfforbv5  \n",
       "1096547516290543617                                                                                                                                                   great job by law enforcement in aurora  illinois  heartfelt condolences to all of the victims and their families  america is with you   \n",
       "1096812333333184512                                                                                                                                                                                                                                                                  https   t co f6jd2fzayz  \n",
       "1096856815810342912                                                                                                                                                                                                                                                                  https   t co njorbjwint  \n",
       "1096924708132581377                                                                                                                                                                                                                                                                       building the wall   \n",
       "1096926633708134406              trade negotiators have just returned from china where the meetings on trade were very productive  now at meetings with me at mar a lago giving the details  in the meantime  billions of dollars are being paid to the united states by china in the form of trade tariffs   \n",
       "\n",
       "[10370 rows x 8 columns]"
      ]
     },
     "execution_count": 25,
     "metadata": {},
     "output_type": "execute_result"
    }
   ],
   "source": [
    "# Save your regex in punct_re\n",
    "punct_re = r'[^\\w\\s]'\n",
    "trump['no_punc'] = trump['text'].replace(punct_re, ' ', regex=True)\n",
    "\n",
    "trump"
   ]
  },
  {
   "cell_type": "code",
   "execution_count": 26,
   "metadata": {
    "deletable": false,
    "editable": false
   },
   "outputs": [
    {
     "name": "stdout",
     "output_type": "stream",
     "text": [
      "~~~~~~~~~~~~~~~~~~~~~~~~~~~~~~~~~~~~~~~~~~~~~~~~~~~~~~~~~~~~~~~~~~~~~\n",
      "Running tests\n",
      "\n",
      "---------------------------------------------------------------------\n",
      "Test summary\n",
      "    Passed: 10\n",
      "    Failed: 0\n",
      "[ooooooooook] 100.0% passed\n",
      "\n"
     ]
    }
   ],
   "source": [
    "ok.grade(\"q5c\");"
   ]
  },
  {
   "cell_type": "markdown",
   "metadata": {
    "deletable": false,
    "editable": false,
    "nbgrader": {
     "grade": false,
     "grade_id": "q6d-header",
     "locked": true,
     "schema_version": 2,
     "solution": false
    }
   },
   "source": [
    "### Question 5d\n",
    "\n",
    "Now, let's convert the tweets into what's called a [*tidy format*](https://cran.r-project.org/web/packages/tidyr/vignettes/tidy-data.html) to make the sentiments easier to calculate. Use the `no_punc` column of `trump` to create a table called `tidy_format`. The index of the table should be the IDs of the tweets, repeated once for every word in the tweet. It has two columns:\n",
    "\n",
    "1. `num`: The location of the word in the tweet. For example, if the tweet was \"i love america\", then the location of the word \"i\" is 0, \"love\" is 1, and \"america\" is 2.\n",
    "2. `word`: The individual words of each tweet.\n",
    "\n",
    "The first few rows of our `tidy_format` table look like:\n",
    "\n",
    "<table border=\"1\" class=\"dataframe\">\n",
    "  <thead>\n",
    "    <tr style=\"text-align: right;\">\n",
    "      <th></th>\n",
    "      <th>num</th>\n",
    "      <th>word</th>\n",
    "    </tr>\n",
    "  </thead>\n",
    "  <tbody>\n",
    "    <tr>\n",
    "      <th>894661651760377856</th>\n",
    "      <td>0</td>\n",
    "      <td>i</td>\n",
    "    </tr>\n",
    "    <tr>\n",
    "      <th>894661651760377856</th>\n",
    "      <td>1</td>\n",
    "      <td>think</td>\n",
    "    </tr>\n",
    "    <tr>\n",
    "      <th>894661651760377856</th>\n",
    "      <td>2</td>\n",
    "      <td>senator</td>\n",
    "    </tr>\n",
    "    <tr>\n",
    "      <th>894661651760377856</th>\n",
    "      <td>3</td>\n",
    "      <td>blumenthal</td>\n",
    "    </tr>\n",
    "    <tr>\n",
    "      <th>894661651760377856</th>\n",
    "      <td>4</td>\n",
    "      <td>should</td>\n",
    "    </tr>\n",
    "  </tbody>\n",
    "</table>\n",
    "\n",
    "**Note that your DataFrame may look different from the one above.** However, you can double check that your tweet with ID `894661651760377856` has the same rows as ours. Our tests don't check whether your table looks exactly like ours.\n",
    "\n",
    "As usual, try to avoid using any for loops. Our solution uses a chain of 5 methods on the `trump` DataFrame, albeit using some rather advanced Pandas hacking.\n",
    "\n",
    "* **Hint 1:** Try looking at the `expand` argument to pandas' `str.split`.\n",
    "\n",
    "* **Hint 2:** Try looking at the `stack()` method.\n",
    "\n",
    "* **Hint 3:** Try looking at the `level` parameter of the `reset_index` method.\n",
    "\n",
    "<!--\n",
    "BEGIN QUESTION\n",
    "name: q5d\n",
    "points: 2\n",
    "-->"
   ]
  },
  {
   "cell_type": "code",
   "execution_count": 27,
   "metadata": {
    "nbgrader": {
     "grade": false,
     "grade_id": "q6d-answer",
     "locked": false,
     "schema_version": 2,
     "solution": true
    },
    "tags": [
     "student"
    ]
   },
   "outputs": [
    {
     "data": {
      "text/html": [
       "<div>\n",
       "<style scoped>\n",
       "    .dataframe tbody tr th:only-of-type {\n",
       "        vertical-align: middle;\n",
       "    }\n",
       "\n",
       "    .dataframe tbody tr th {\n",
       "        vertical-align: top;\n",
       "    }\n",
       "\n",
       "    .dataframe thead th {\n",
       "        text-align: right;\n",
       "    }\n",
       "</style>\n",
       "<table border=\"1\" class=\"dataframe\">\n",
       "  <thead>\n",
       "    <tr style=\"text-align: right;\">\n",
       "      <th></th>\n",
       "      <th>num</th>\n",
       "      <th>word</th>\n",
       "    </tr>\n",
       "    <tr>\n",
       "      <th>ID</th>\n",
       "      <th></th>\n",
       "      <th></th>\n",
       "    </tr>\n",
       "  </thead>\n",
       "  <tbody>\n",
       "    <tr>\n",
       "      <th>690171032150237184</th>\n",
       "      <td>0</td>\n",
       "      <td>bigop1</td>\n",
       "    </tr>\n",
       "    <tr>\n",
       "      <th>690171032150237184</th>\n",
       "      <td>1</td>\n",
       "      <td>realdonaldtrump</td>\n",
       "    </tr>\n",
       "    <tr>\n",
       "      <th>690171032150237184</th>\n",
       "      <td>2</td>\n",
       "      <td>sarahpalinusa</td>\n",
       "    </tr>\n",
       "    <tr>\n",
       "      <th>690171032150237184</th>\n",
       "      <td>3</td>\n",
       "      <td>https</td>\n",
       "    </tr>\n",
       "    <tr>\n",
       "      <th>690171032150237184</th>\n",
       "      <td>4</td>\n",
       "      <td>t</td>\n",
       "    </tr>\n",
       "  </tbody>\n",
       "</table>\n",
       "</div>"
      ],
      "text/plain": [
       "                    num             word\n",
       "ID                                      \n",
       "690171032150237184    0           bigop1\n",
       "690171032150237184    1  realdonaldtrump\n",
       "690171032150237184    2    sarahpalinusa\n",
       "690171032150237184    3            https\n",
       "690171032150237184    4                t"
      ]
     },
     "execution_count": 27,
     "metadata": {},
     "output_type": "execute_result"
    }
   ],
   "source": [
    "tidy_format = trump[['no_punc']]\n",
    "tidy_format = tidy_format['no_punc'].str.split(expand=True)\n",
    "tidy_format = tidy_format.stack()\n",
    "tidy_format = tidy_format.reset_index(level=1).rename({'level_1':'num', 0:'word'}, axis='columns')\n",
    "tidy_format.head()"
   ]
  },
  {
   "cell_type": "code",
   "execution_count": 28,
   "metadata": {
    "deletable": false,
    "editable": false
   },
   "outputs": [
    {
     "name": "stdout",
     "output_type": "stream",
     "text": [
      "~~~~~~~~~~~~~~~~~~~~~~~~~~~~~~~~~~~~~~~~~~~~~~~~~~~~~~~~~~~~~~~~~~~~~\n",
      "Running tests\n",
      "\n",
      "---------------------------------------------------------------------\n",
      "Test summary\n",
      "    Passed: 2\n",
      "    Failed: 0\n",
      "[ooooooooook] 100.0% passed\n",
      "\n"
     ]
    }
   ],
   "source": [
    "ok.grade(\"q5d\");"
   ]
  },
  {
   "cell_type": "markdown",
   "metadata": {
    "deletable": false,
    "editable": false,
    "nbgrader": {
     "grade": false,
     "grade_id": "q6e-header",
     "locked": true,
     "schema_version": 2,
     "solution": false
    }
   },
   "source": [
    "### Question 5e\n",
    "\n",
    "Now that we have this table in the tidy format, it becomes much easier to find the sentiment of each tweet: we can join the table with the lexicon table. \n",
    "\n",
    "Add a `polarity` column to the `trump` table.  The `polarity` column should contain the sum of the sentiment polarity of each word in the text of the tweet.\n",
    "\n",
    "**Hints:** \n",
    "* You will need to merge the `tidy_format` and `sent` tables and group the final answer.\n",
    "* If certain words are not found in the `sent` table, set their polarities to 0.\n",
    "\n",
    "<!--\n",
    "BEGIN QUESTION\n",
    "name: q5e\n",
    "points: 2\n",
    "-->"
   ]
  },
  {
   "cell_type": "code",
   "execution_count": 29,
   "metadata": {
    "nbgrader": {
     "grade": false,
     "grade_id": "q6e",
     "locked": false,
     "schema_version": 2,
     "solution": true
    },
    "tags": [
     "student"
    ]
   },
   "outputs": [
    {
     "data": {
      "text/html": [
       "<div>\n",
       "<style scoped>\n",
       "    .dataframe tbody tr th:only-of-type {\n",
       "        vertical-align: middle;\n",
       "    }\n",
       "\n",
       "    .dataframe tbody tr th {\n",
       "        vertical-align: top;\n",
       "    }\n",
       "\n",
       "    .dataframe thead th {\n",
       "        text-align: right;\n",
       "    }\n",
       "</style>\n",
       "<table border=\"1\" class=\"dataframe\">\n",
       "  <thead>\n",
       "    <tr style=\"text-align: right;\">\n",
       "      <th></th>\n",
       "      <th>time</th>\n",
       "      <th>source</th>\n",
       "      <th>text</th>\n",
       "      <th>retweet_count</th>\n",
       "      <th>year</th>\n",
       "      <th>est_time</th>\n",
       "      <th>hour</th>\n",
       "      <th>no_punc</th>\n",
       "      <th>polarity</th>\n",
       "    </tr>\n",
       "    <tr>\n",
       "      <th>ID</th>\n",
       "      <th></th>\n",
       "      <th></th>\n",
       "      <th></th>\n",
       "      <th></th>\n",
       "      <th></th>\n",
       "      <th></th>\n",
       "      <th></th>\n",
       "      <th></th>\n",
       "      <th></th>\n",
       "    </tr>\n",
       "  </thead>\n",
       "  <tbody>\n",
       "    <tr>\n",
       "      <th>690171032150237184</th>\n",
       "      <td>2016-01-21 13:56:11</td>\n",
       "      <td>Twitter for Android</td>\n",
       "      <td>\"@bigop1: @realdonaldtrump  @sarahpalinusa https://t.co/3kyqgqevyd\"</td>\n",
       "      <td>1059</td>\n",
       "      <td>2016.054645</td>\n",
       "      <td>2016-01-21 08:56:11-05:00</td>\n",
       "      <td>8.936389</td>\n",
       "      <td>bigop1   realdonaldtrump   sarahpalinusa https   t co 3kyqgqevyd</td>\n",
       "      <td>0.0</td>\n",
       "    </tr>\n",
       "    <tr>\n",
       "      <th>690171403388104704</th>\n",
       "      <td>2016-01-21 13:57:39</td>\n",
       "      <td>Twitter for Android</td>\n",
       "      <td>\"@americanaspie:  @glennbeck @sarahpalinusa remember when glenn gave out gifts to illegal aliens at crossing the border? me too!\"</td>\n",
       "      <td>1339</td>\n",
       "      <td>2016.054645</td>\n",
       "      <td>2016-01-21 08:57:39-05:00</td>\n",
       "      <td>8.960833</td>\n",
       "      <td>americanaspie    glennbeck  sarahpalinusa remember when glenn gave out gifts to illegal aliens at crossing the border  me too</td>\n",
       "      <td>-2.6</td>\n",
       "    </tr>\n",
       "    <tr>\n",
       "      <th>690173226341691392</th>\n",
       "      <td>2016-01-21 14:04:54</td>\n",
       "      <td>Twitter for Android</td>\n",
       "      <td>so sad that @cnn and many others refused to show the massive crowd at the arena yesterday in oklahoma. dishonest reporting!</td>\n",
       "      <td>2006</td>\n",
       "      <td>2016.054645</td>\n",
       "      <td>2016-01-21 09:04:54-05:00</td>\n",
       "      <td>9.081667</td>\n",
       "      <td>so sad that  cnn and many others refused to show the massive crowd at the arena yesterday in oklahoma  dishonest reporting</td>\n",
       "      <td>-6.0</td>\n",
       "    </tr>\n",
       "    <tr>\n",
       "      <th>690176882055114758</th>\n",
       "      <td>2016-01-21 14:19:26</td>\n",
       "      <td>Twitter for Android</td>\n",
       "      <td>sad sack @jebbush has just done another ad on me, with special interest money, saying i won't beat hillary - i will. but he can't beat me.</td>\n",
       "      <td>2266</td>\n",
       "      <td>2016.054645</td>\n",
       "      <td>2016-01-21 09:19:26-05:00</td>\n",
       "      <td>9.323889</td>\n",
       "      <td>sad sack  jebbush has just done another ad on me  with special interest money  saying i won t beat hillary   i will  but he can t beat me</td>\n",
       "      <td>4.3</td>\n",
       "    </tr>\n",
       "    <tr>\n",
       "      <th>690180284189310976</th>\n",
       "      <td>2016-01-21 14:32:57</td>\n",
       "      <td>Twitter for Android</td>\n",
       "      <td>low energy candidate @jebbush has wasted $80 million on his failed presidential campaign. millions spent on me. he should go home and relax!</td>\n",
       "      <td>2886</td>\n",
       "      <td>2016.054645</td>\n",
       "      <td>2016-01-21 09:32:57-05:00</td>\n",
       "      <td>9.549167</td>\n",
       "      <td>low energy candidate  jebbush has wasted  80 million on his failed presidential campaign  millions spent on me  he should go home and relax</td>\n",
       "      <td>-2.6</td>\n",
       "    </tr>\n",
       "  </tbody>\n",
       "</table>\n",
       "</div>"
      ],
      "text/plain": [
       "                                  time               source  \\\n",
       "ID                                                            \n",
       "690171032150237184 2016-01-21 13:56:11  Twitter for Android   \n",
       "690171403388104704 2016-01-21 13:57:39  Twitter for Android   \n",
       "690173226341691392 2016-01-21 14:04:54  Twitter for Android   \n",
       "690176882055114758 2016-01-21 14:19:26  Twitter for Android   \n",
       "690180284189310976 2016-01-21 14:32:57  Twitter for Android   \n",
       "\n",
       "                                                                                                                                                            text  \\\n",
       "ID                                                                                                                                                                 \n",
       "690171032150237184                                                                           \"@bigop1: @realdonaldtrump  @sarahpalinusa https://t.co/3kyqgqevyd\"   \n",
       "690171403388104704             \"@americanaspie:  @glennbeck @sarahpalinusa remember when glenn gave out gifts to illegal aliens at crossing the border? me too!\"   \n",
       "690173226341691392                   so sad that @cnn and many others refused to show the massive crowd at the arena yesterday in oklahoma. dishonest reporting!   \n",
       "690176882055114758    sad sack @jebbush has just done another ad on me, with special interest money, saying i won't beat hillary - i will. but he can't beat me.   \n",
       "690180284189310976  low energy candidate @jebbush has wasted $80 million on his failed presidential campaign. millions spent on me. he should go home and relax!   \n",
       "\n",
       "                    retweet_count         year                  est_time  \\\n",
       "ID                                                                         \n",
       "690171032150237184           1059  2016.054645 2016-01-21 08:56:11-05:00   \n",
       "690171403388104704           1339  2016.054645 2016-01-21 08:57:39-05:00   \n",
       "690173226341691392           2006  2016.054645 2016-01-21 09:04:54-05:00   \n",
       "690176882055114758           2266  2016.054645 2016-01-21 09:19:26-05:00   \n",
       "690180284189310976           2886  2016.054645 2016-01-21 09:32:57-05:00   \n",
       "\n",
       "                        hour  \\\n",
       "ID                             \n",
       "690171032150237184  8.936389   \n",
       "690171403388104704  8.960833   \n",
       "690173226341691392  9.081667   \n",
       "690176882055114758  9.323889   \n",
       "690180284189310976  9.549167   \n",
       "\n",
       "                                                                                                                                                         no_punc  \\\n",
       "ID                                                                                                                                                                 \n",
       "690171032150237184                                                                             bigop1   realdonaldtrump   sarahpalinusa https   t co 3kyqgqevyd    \n",
       "690171403388104704               americanaspie    glennbeck  sarahpalinusa remember when glenn gave out gifts to illegal aliens at crossing the border  me too     \n",
       "690173226341691392                   so sad that  cnn and many others refused to show the massive crowd at the arena yesterday in oklahoma  dishonest reporting    \n",
       "690176882055114758    sad sack  jebbush has just done another ad on me  with special interest money  saying i won t beat hillary   i will  but he can t beat me    \n",
       "690180284189310976  low energy candidate  jebbush has wasted  80 million on his failed presidential campaign  millions spent on me  he should go home and relax    \n",
       "\n",
       "                    polarity  \n",
       "ID                            \n",
       "690171032150237184       0.0  \n",
       "690171403388104704      -2.6  \n",
       "690173226341691392      -6.0  \n",
       "690176882055114758       4.3  \n",
       "690180284189310976      -2.6  "
      ]
     },
     "execution_count": 29,
     "metadata": {},
     "output_type": "execute_result"
    }
   ],
   "source": [
    "temp = pd.merge(tidy_format.reset_index(), sent, how='left', on='word').set_index('ID')\n",
    "temp = temp.groupby('ID').sum()[['polarity']]\n",
    "\n",
    "trump = pd.merge(trump.reset_index(), temp.reset_index(), how='left', on='ID').set_index('ID')\n",
    "trump.head()"
   ]
  },
  {
   "cell_type": "code",
   "execution_count": 30,
   "metadata": {
    "deletable": false,
    "editable": false
   },
   "outputs": [
    {
     "name": "stdout",
     "output_type": "stream",
     "text": [
      "~~~~~~~~~~~~~~~~~~~~~~~~~~~~~~~~~~~~~~~~~~~~~~~~~~~~~~~~~~~~~~~~~~~~~\n",
      "Running tests\n",
      "\n",
      "---------------------------------------------------------------------\n",
      "Test summary\n",
      "    Passed: 6\n",
      "    Failed: 0\n",
      "[ooooooooook] 100.0% passed\n",
      "\n"
     ]
    }
   ],
   "source": [
    "ok.grade(\"q5e\");"
   ]
  },
  {
   "cell_type": "markdown",
   "metadata": {
    "nbgrader": {
     "grade": false,
     "grade_id": "a-note-on-vader",
     "locked": true,
     "schema_version": 2,
     "solution": false
    }
   },
   "source": [
    "Now we have a measure of the sentiment of each of his tweets! Note that this calculation is rather basic; you can read over the VADER readme to understand a more robust sentiment analysis.\n",
    "\n",
    "Now, run the cells below to see the most positive and most negative tweets from Trump in your dataset:"
   ]
  },
  {
   "cell_type": "code",
   "execution_count": 31,
   "metadata": {
    "nbgrader": {
     "grade": false,
     "grade_id": "negative-tweets",
     "locked": true,
     "schema_version": 2,
     "solution": false
    }
   },
   "outputs": [
    {
     "name": "stdout",
     "output_type": "stream",
     "text": [
      "Most negative tweets:\n",
      "\n",
      "   the trump portrait of an unsustainable border crisis is dead on. “in the last two years, ice officers made 266,000 arrests of aliens with criminal records, including those charged or convicted of 100,000 assaults, 30,000 sex crimes &amp; 4000 violent killings.” america’s southern....\n",
      "\n",
      "   it is outrageous that poisonous synthetic heroin fentanyl comes pouring into the u.s. postal system from china. we can, and must, end this now! the senate should pass the stop act – and firmly stop this poison from killing our children and destroying our country. no more delay!\n",
      "\n",
      "   the rigged russian witch hunt goes on and on as the “originators and founders” of this scam continue to be fired and demoted for their corrupt and illegal activity. all credibility is gone from this terrible hoax, and much more will be lost as it proceeds. no collusion!\n",
      "\n",
      "   ...this evil anti-semitic attack is an assault on humanity. it will take all of us working together to extract the poison of anti-semitism from our world. we must unite to conquer hate.\n",
      "\n",
      "   james comey is a proven leaker &amp; liar. virtually everyone in washington thought he should be fired for the terrible job he did-until he was, in fact, fired. he leaked classified information, for which he should be prosecuted. he lied to congress under oath. he is a weak and.....\n"
     ]
    }
   ],
   "source": [
    "print('Most negative tweets:')\n",
    "for t in trump.sort_values('polarity').head()['text']:\n",
    "    print('\\n  ', t)"
   ]
  },
  {
   "cell_type": "code",
   "execution_count": 32,
   "metadata": {
    "nbgrader": {
     "grade": false,
     "grade_id": "postive-tweets",
     "locked": true,
     "schema_version": 2,
     "solution": false
    },
    "scrolled": true
   },
   "outputs": [
    {
     "name": "stdout",
     "output_type": "stream",
     "text": [
      "Most positive tweets:\n",
      "\n",
      "   congratulations to patrick reed on his great and courageous masters win! when patrick had his amazing win at doral 5 years ago, people saw his great talent, and a bright future ahead. now he is the masters champion!\n",
      "\n",
      "   congratulations to a truly great football team, the clemson tigers, on an incredible win last night against a powerful alabama team. a big win also for the great state of south carolina. look forward to seeing the team, and their brilliant coach, for the second time at the w.h.\n",
      "\n",
      "   my supporters are the smartest, strongest, most hard working and most loyal that we have seen in our countries history. it is a beautiful thing to watch as we win elections and gather support from all over the country. as we get stronger, so does our country. best numbers ever!\n",
      "\n",
      "   thank you to all of my great supporters, really big progress being made. other countries wanting to fix crazy trade deals. economy is roaring. supreme court pick getting great reviews. new poll says trump, at over 90%, is the most popular republican in history of the party. wow!\n",
      "\n",
      "   thank you, @wvgovernor jim justice, for that warm introduction. tonight, it was my great honor to attend the “greenbrier classic – salute to service dinner” in west virginia! god bless our veterans. god bless america - and happy independence day to all! https://t.co/v35qvcn8m6\n"
     ]
    }
   ],
   "source": [
    "print('Most positive tweets:')\n",
    "for t in trump.sort_values('polarity', ascending=False).head()['text']:\n",
    "    print('\\n  ', t)"
   ]
  },
  {
   "cell_type": "markdown",
   "metadata": {
    "deletable": false,
    "editable": false,
    "nbgrader": {
     "grade": false,
     "grade_id": "q6g",
     "locked": true,
     "schema_version": 2,
     "solution": false
    }
   },
   "source": [
    "## Question 6\n",
    "\n",
    "Now, let's try looking at the distributions of sentiments for tweets containing certain keywords.\n",
    "\n",
    "### Question 6a\n",
    "\n",
    "In the cell below, create a single plot showing both the distribution of tweet sentiments for tweets containing `nytimes`, as well as the distribution of tweet sentiments for tweets containing `fox`.\n",
    "\n",
    "<!--\n",
    "BEGIN QUESTION\n",
    "name: q6a\n",
    "points: 1\n",
    "manual: true\n",
    "-->\n",
    "<!-- EXPORT TO PDF -->"
   ]
  },
  {
   "cell_type": "code",
   "execution_count": 33,
   "metadata": {
    "nbgrader": {
     "grade": true,
     "grade_id": "q6g-answer",
     "locked": false,
     "points": 1,
     "schema_version": 2,
     "solution": true
    },
    "tags": [
     "student"
    ]
   },
   "outputs": [
    {
     "data": {
      "image/png": "[encoded data removed]",
      "text/plain": [
       "<Figure size 432x288 with 1 Axes>"
      ]
     },
     "metadata": {},
     "output_type": "display_data"
    }
   ],
   "source": [
    "nytimes = trump.loc[trump['no_punc'].str.contains('nytimes')][['polarity']]\n",
    "fox = trump.loc[trump['no_punc'].str.contains('fox')][['polarity']]\n",
    "_ = sns.distplot(nytimes, hist=False, label='nytimes')\n",
    "_ = sns.distplot(fox, hist=False, label='fox')\n",
    "_ = plt.ylabel('fraction')\n",
    "_ = plt.xlabel('sentiment score')\n",
    "_ = plt.title('Distribution of Trump\\'s Tweets\\' Sentiment Scores Containing Specific Words')\n",
    "_ = plt.legend()"
   ]
  },
  {
   "cell_type": "markdown",
   "metadata": {
    "deletable": false,
    "nbgrader": {
     "grade": false,
     "grade_id": "comment-on-faux-news",
     "locked": true,
     "schema_version": 2,
     "solution": false
    }
   },
   "source": [
    "### Question 6b\n",
    "Comment on what you observe in the plot above. Can you find other pairs of keywords that lead to interesting plots? (If you modify your code in 6a, remember to change the words back to `nytimes` and `fox` before submitting for grading).\n",
    "\n",
    "<!--\n",
    "BEGIN QUESTION\n",
    "name: q6b\n",
    "points: 1\n",
    "manual: true\n",
    "--><!-- EXPORT TO PDF -->"
   ]
  },
  {
   "cell_type": "markdown",
   "metadata": {
    "nbgrader": {
     "grade": true,
     "grade_id": "q6g-written",
     "locked": false,
     "points": 1,
     "schema_version": 2,
     "solution": true
    }
   },
   "source": [
    "We're observing relatively positive sentiments (>0) in tweets containing the word 'fox' as opposed to negative sentiments (<0) in tweets contains the word 'nytimes'. It appears that the negative sentiment towards nytimes is stronger than is positive sentiment towards fox. A similar distribution can be observed using keywords such as 'immigrant' and 'america'."
   ]
  },
  {
   "cell_type": "code",
   "execution_count": 34,
   "metadata": {
    "deletable": false,
    "editable": false
   },
   "outputs": [
    {
     "name": "stdout",
     "output_type": "stream",
     "text": [
      "Generating PDF...\n",
      "Saved hw3.pdf\n"
     ]
    },
    {
     "data": {
      "application/javascript": [
       "IPython.notebook.save_checkpoint();"
      ],
      "text/plain": [
       "<IPython.core.display.Javascript object>"
      ]
     },
     "metadata": {},
     "output_type": "display_data"
    },
    {
     "data": {
      "application/javascript": [
       "IPython.notebook.save_notebook();"
      ],
      "text/plain": [
       "<IPython.core.display.Javascript object>"
      ]
     },
     "metadata": {},
     "output_type": "display_data"
    },
    {
     "name": "stdout",
     "output_type": "stream",
     "text": [
      "Saving notebook... "
     ]
    },
    {
     "name": "stderr",
     "output_type": "stream",
     "text": [
      "ERROR  | auth.py:91 | {'error': 'invalid_grant'}\n"
     ]
    },
    {
     "name": "stdout",
     "output_type": "stream",
     "text": [
      "Saved 'hw3.ipynb'.\n",
      "Performing authentication\n",
      "Please enter your bCourses email.\n",
      "bCourses email: damienk@berkeley.edu\n",
      "\n",
      "Copy the following URL and open it in a web browser. To copy,\n",
      "highlight the URL, right-click, and select \"Copy\".\n",
      "\n",
      "https://okpy.org/client/login/\n",
      "\n",
      "After logging in, copy the code from the web page, paste it below,\n",
      "and press Enter. To paste, right-click and select \"Paste\".\n",
      "\n",
      "Paste your code here: zAF5PCGUa4FO27Oj8Ar64Puc4QOvWJ\n",
      "Successfully logged in as damienk@berkeley.edu\n",
      "Submit... 100% complete\n",
      "Submission successful for user: damienk@berkeley.edu\n",
      "URL: https://okpy.org/cal/data100/sp19/hw3/submissions/WLPWvv\n",
      "\n"
     ]
    }
   ],
   "source": [
    "# Save your notebook first, then run this cell to submit.\n",
    "import jassign.to_pdf\n",
    "jassign.to_pdf.generate_pdf('hw3.ipynb', 'hw3.pdf')\n",
    "ok.submit()"
   ]
  }
 ],
 "metadata": {
  "kernelspec": {
   "display_name": "Python 3",
   "language": "python",
   "name": "python3"
  },
  "language_info": {
   "codemirror_mode": {
    "name": "ipython",
    "version": 3
   },
   "file_extension": ".py",
   "mimetype": "text/x-python",
   "name": "python",
   "nbconvert_exporter": "python",
   "pygments_lexer": "ipython3",
   "version": "3.6.4"
  }
 },
 "nbformat": 4,
 "nbformat_minor": 2
}
